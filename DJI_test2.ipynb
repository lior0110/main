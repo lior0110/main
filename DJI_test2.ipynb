{
  "nbformat": 4,
  "nbformat_minor": 0,
  "metadata": {
    "colab": {
      "name": "DJI_test2.ipynb",
      "provenance": [],
      "authorship_tag": "ABX9TyPSRp6RVClBansovJgUP1nw",
      "include_colab_link": true
    },
    "kernelspec": {
      "name": "python3",
      "display_name": "Python 3"
    }
  },
  "cells": [
    {
      "cell_type": "markdown",
      "metadata": {
        "id": "view-in-github",
        "colab_type": "text"
      },
      "source": [
        "<a href=\"https://colab.research.google.com/github/lior0110/main/blob/master/DJI_test2.ipynb\" target=\"_parent\"><img src=\"https://colab.research.google.com/assets/colab-badge.svg\" alt=\"Open In Colab\"/></a>"
      ]
    },
    {
      "cell_type": "markdown",
      "metadata": {
        "id": "Kd_samnJo6Uc",
        "colab_type": "text"
      },
      "source": [
        "[![Open In Colab](https://colab.research.google.com/assets/colab-badge.svg)](https://colab.research.google.com/github/lior0110/main/blob/master/DJI_test2.ipynb)"
      ]
    },
    {
      "cell_type": "code",
      "metadata": {
        "id": "H9voU75YpfVs",
        "colab_type": "code",
        "colab": {}
      },
      "source": [
        "import os \n",
        "if not os.path.exists('main'): os.system('git clone https://github.com/lior0110/main/')\n",
        "os.chdir('main')"
      ],
      "execution_count": 0,
      "outputs": []
    },
    {
      "cell_type": "code",
      "metadata": {
        "id": "mnplwysUnBbK",
        "colab_type": "code",
        "colab": {}
      },
      "source": [
        "import pandas as pd\n",
        "import numpy as np\n",
        "import matplotlib\n",
        "import matplotlib.pyplot as plt"
      ],
      "execution_count": 0,
      "outputs": []
    },
    {
      "cell_type": "code",
      "metadata": {
        "id": "LKyITYXHnBbO",
        "colab_type": "code",
        "outputId": "2f7acef0-a9eb-4515-805a-9849be2a7f31",
        "colab": {
          "base_uri": "https://localhost:8080/",
          "height": 195
        }
      },
      "source": [
        "# read the given data\n",
        "data = pd.read_csv('DJI2.csv', parse_dates=True) # , index_col=0\n",
        "data.head()"
      ],
      "execution_count": 0,
      "outputs": [
        {
          "output_type": "execute_result",
          "data": {
            "text/html": [
              "<div>\n",
              "<style scoped>\n",
              "    .dataframe tbody tr th:only-of-type {\n",
              "        vertical-align: middle;\n",
              "    }\n",
              "\n",
              "    .dataframe tbody tr th {\n",
              "        vertical-align: top;\n",
              "    }\n",
              "\n",
              "    .dataframe thead th {\n",
              "        text-align: right;\n",
              "    }\n",
              "</style>\n",
              "<table border=\"1\" class=\"dataframe\">\n",
              "  <thead>\n",
              "    <tr style=\"text-align: right;\">\n",
              "      <th></th>\n",
              "      <th>Date</th>\n",
              "      <th>Open</th>\n",
              "      <th>High</th>\n",
              "      <th>Low</th>\n",
              "      <th>Close</th>\n",
              "      <th>Adj Close</th>\n",
              "      <th>Volume</th>\n",
              "    </tr>\n",
              "  </thead>\n",
              "  <tbody>\n",
              "    <tr>\n",
              "      <th>0</th>\n",
              "      <td>2007-01-03</td>\n",
              "      <td>12459.540039</td>\n",
              "      <td>12580.349609</td>\n",
              "      <td>12404.820313</td>\n",
              "      <td>12474.519531</td>\n",
              "      <td>12474.519531</td>\n",
              "      <td>327200000</td>\n",
              "    </tr>\n",
              "    <tr>\n",
              "      <th>1</th>\n",
              "      <td>2007-01-04</td>\n",
              "      <td>12473.160156</td>\n",
              "      <td>12510.410156</td>\n",
              "      <td>12403.860352</td>\n",
              "      <td>12480.690430</td>\n",
              "      <td>12480.690430</td>\n",
              "      <td>259060000</td>\n",
              "    </tr>\n",
              "    <tr>\n",
              "      <th>2</th>\n",
              "      <td>2007-01-05</td>\n",
              "      <td>12480.049805</td>\n",
              "      <td>12480.129883</td>\n",
              "      <td>12365.410156</td>\n",
              "      <td>12398.009766</td>\n",
              "      <td>12398.009766</td>\n",
              "      <td>235220000</td>\n",
              "    </tr>\n",
              "    <tr>\n",
              "      <th>3</th>\n",
              "      <td>2007-01-08</td>\n",
              "      <td>12392.009766</td>\n",
              "      <td>12445.919922</td>\n",
              "      <td>12337.370117</td>\n",
              "      <td>12423.490234</td>\n",
              "      <td>12423.490234</td>\n",
              "      <td>223500000</td>\n",
              "    </tr>\n",
              "    <tr>\n",
              "      <th>4</th>\n",
              "      <td>2007-01-09</td>\n",
              "      <td>12424.769531</td>\n",
              "      <td>12466.429688</td>\n",
              "      <td>12369.169922</td>\n",
              "      <td>12416.599609</td>\n",
              "      <td>12416.599609</td>\n",
              "      <td>225190000</td>\n",
              "    </tr>\n",
              "  </tbody>\n",
              "</table>\n",
              "</div>"
            ],
            "text/plain": [
              "         Date          Open  ...     Adj Close     Volume\n",
              "0  2007-01-03  12459.540039  ...  12474.519531  327200000\n",
              "1  2007-01-04  12473.160156  ...  12480.690430  259060000\n",
              "2  2007-01-05  12480.049805  ...  12398.009766  235220000\n",
              "3  2007-01-08  12392.009766  ...  12423.490234  223500000\n",
              "4  2007-01-09  12424.769531  ...  12416.599609  225190000\n",
              "\n",
              "[5 rows x 7 columns]"
            ]
          },
          "metadata": {
            "tags": []
          },
          "execution_count": 16
        }
      ]
    },
    {
      "cell_type": "code",
      "metadata": {
        "id": "kcqOvSYJnBbR",
        "colab_type": "code",
        "outputId": "302e2e76-4a5c-4ea5-e3d6-79e02fc729a5",
        "colab": {
          "base_uri": "https://localhost:8080/",
          "height": 252
        }
      },
      "source": [
        "data.info()"
      ],
      "execution_count": 0,
      "outputs": [
        {
          "output_type": "stream",
          "text": [
            "<class 'pandas.core.frame.DataFrame'>\n",
            "RangeIndex: 3328 entries, 0 to 3327\n",
            "Data columns (total 7 columns):\n",
            " #   Column     Non-Null Count  Dtype  \n",
            "---  ------     --------------  -----  \n",
            " 0   Date       3328 non-null   object \n",
            " 1   Open       3328 non-null   float64\n",
            " 2   High       3328 non-null   float64\n",
            " 3   Low        3328 non-null   float64\n",
            " 4   Close      3328 non-null   float64\n",
            " 5   Adj Close  3328 non-null   float64\n",
            " 6   Volume     3328 non-null   int64  \n",
            "dtypes: float64(5), int64(1), object(1)\n",
            "memory usage: 182.1+ KB\n"
          ],
          "name": "stdout"
        }
      ]
    },
    {
      "cell_type": "code",
      "metadata": {
        "id": "yHaVKqEJnBbU",
        "colab_type": "code",
        "outputId": "3fb0606b-b5b6-49d9-8a0a-2aceaca406c6",
        "colab": {
          "base_uri": "https://localhost:8080/",
          "height": 282
        }
      },
      "source": [
        "data['Adj Close'].plot()"
      ],
      "execution_count": 0,
      "outputs": [
        {
          "output_type": "execute_result",
          "data": {
            "text/plain": [
              "<matplotlib.axes._subplots.AxesSubplot at 0x7fde9de40160>"
            ]
          },
          "metadata": {
            "tags": []
          },
          "execution_count": 18
        },
        {
          "output_type": "display_data",
          "data": {
            "image/png": "[encoded data removed]",
            "text/plain": [
              "<Figure size 432x288 with 1 Axes>"
            ]
          },
          "metadata": {
            "tags": []
          }
        }
      ]
    },
    {
      "cell_type": "code",
      "metadata": {
        "id": "NuMLuE5DnBbX",
        "colab_type": "code",
        "colab": {}
      },
      "source": [
        "# see if 'Adj Close' is the same as 'Close'\n",
        "# if yes drop 'Adj Close'\n",
        "test = data['Adj Close'] == data['Close']\n",
        "if all(data['Adj Close'] == data['Close']):\n",
        "    data = data.drop(columns='Adj Close')\n",
        "\n"
      ],
      "execution_count": 0,
      "outputs": []
    },
    {
      "cell_type": "code",
      "metadata": {
        "id": "2Hr9jOQWnBba",
        "colab_type": "code",
        "outputId": "8bbd7bee-68aa-4278-f5f1-d9eb4fbdfc0e",
        "colab": {
          "base_uri": "https://localhost:8080/",
          "height": 195
        }
      },
      "source": [
        "data.head()\n"
      ],
      "execution_count": 0,
      "outputs": [
        {
          "output_type": "execute_result",
          "data": {
            "text/html": [
              "<div>\n",
              "<style scoped>\n",
              "    .dataframe tbody tr th:only-of-type {\n",
              "        vertical-align: middle;\n",
              "    }\n",
              "\n",
              "    .dataframe tbody tr th {\n",
              "        vertical-align: top;\n",
              "    }\n",
              "\n",
              "    .dataframe thead th {\n",
              "        text-align: right;\n",
              "    }\n",
              "</style>\n",
              "<table border=\"1\" class=\"dataframe\">\n",
              "  <thead>\n",
              "    <tr style=\"text-align: right;\">\n",
              "      <th></th>\n",
              "      <th>Date</th>\n",
              "      <th>Open</th>\n",
              "      <th>High</th>\n",
              "      <th>Low</th>\n",
              "      <th>Close</th>\n",
              "      <th>Volume</th>\n",
              "    </tr>\n",
              "  </thead>\n",
              "  <tbody>\n",
              "    <tr>\n",
              "      <th>0</th>\n",
              "      <td>2007-01-03</td>\n",
              "      <td>12459.540039</td>\n",
              "      <td>12580.349609</td>\n",
              "      <td>12404.820313</td>\n",
              "      <td>12474.519531</td>\n",
              "      <td>327200000</td>\n",
              "    </tr>\n",
              "    <tr>\n",
              "      <th>1</th>\n",
              "      <td>2007-01-04</td>\n",
              "      <td>12473.160156</td>\n",
              "      <td>12510.410156</td>\n",
              "      <td>12403.860352</td>\n",
              "      <td>12480.690430</td>\n",
              "      <td>259060000</td>\n",
              "    </tr>\n",
              "    <tr>\n",
              "      <th>2</th>\n",
              "      <td>2007-01-05</td>\n",
              "      <td>12480.049805</td>\n",
              "      <td>12480.129883</td>\n",
              "      <td>12365.410156</td>\n",
              "      <td>12398.009766</td>\n",
              "      <td>235220000</td>\n",
              "    </tr>\n",
              "    <tr>\n",
              "      <th>3</th>\n",
              "      <td>2007-01-08</td>\n",
              "      <td>12392.009766</td>\n",
              "      <td>12445.919922</td>\n",
              "      <td>12337.370117</td>\n",
              "      <td>12423.490234</td>\n",
              "      <td>223500000</td>\n",
              "    </tr>\n",
              "    <tr>\n",
              "      <th>4</th>\n",
              "      <td>2007-01-09</td>\n",
              "      <td>12424.769531</td>\n",
              "      <td>12466.429688</td>\n",
              "      <td>12369.169922</td>\n",
              "      <td>12416.599609</td>\n",
              "      <td>225190000</td>\n",
              "    </tr>\n",
              "  </tbody>\n",
              "</table>\n",
              "</div>"
            ],
            "text/plain": [
              "         Date          Open  ...         Close     Volume\n",
              "0  2007-01-03  12459.540039  ...  12474.519531  327200000\n",
              "1  2007-01-04  12473.160156  ...  12480.690430  259060000\n",
              "2  2007-01-05  12480.049805  ...  12398.009766  235220000\n",
              "3  2007-01-08  12392.009766  ...  12423.490234  223500000\n",
              "4  2007-01-09  12424.769531  ...  12416.599609  225190000\n",
              "\n",
              "[5 rows x 6 columns]"
            ]
          },
          "metadata": {
            "tags": []
          },
          "execution_count": 20
        }
      ]
    },
    {
      "cell_type": "code",
      "metadata": {
        "id": "uR9VwnntA-3Z",
        "colab_type": "code",
        "outputId": "b0b1d6fe-a7f3-4343-82fd-feaa204b28a5",
        "colab": {
          "base_uri": "https://localhost:8080/",
          "height": 195
        }
      },
      "source": [
        "data.tail()\n"
      ],
      "execution_count": 0,
      "outputs": [
        {
          "output_type": "execute_result",
          "data": {
            "text/html": [
              "<div>\n",
              "<style scoped>\n",
              "    .dataframe tbody tr th:only-of-type {\n",
              "        vertical-align: middle;\n",
              "    }\n",
              "\n",
              "    .dataframe tbody tr th {\n",
              "        vertical-align: top;\n",
              "    }\n",
              "\n",
              "    .dataframe thead th {\n",
              "        text-align: right;\n",
              "    }\n",
              "</style>\n",
              "<table border=\"1\" class=\"dataframe\">\n",
              "  <thead>\n",
              "    <tr style=\"text-align: right;\">\n",
              "      <th></th>\n",
              "      <th>Date</th>\n",
              "      <th>Open</th>\n",
              "      <th>High</th>\n",
              "      <th>Low</th>\n",
              "      <th>Close</th>\n",
              "      <th>Volume</th>\n",
              "    </tr>\n",
              "  </thead>\n",
              "  <tbody>\n",
              "    <tr>\n",
              "      <th>3323</th>\n",
              "      <td>2020-03-17</td>\n",
              "      <td>20487.050781</td>\n",
              "      <td>21379.349609</td>\n",
              "      <td>19882.259766</td>\n",
              "      <td>21237.380859</td>\n",
              "      <td>793060000</td>\n",
              "    </tr>\n",
              "    <tr>\n",
              "      <th>3324</th>\n",
              "      <td>2020-03-18</td>\n",
              "      <td>20188.689453</td>\n",
              "      <td>20489.330078</td>\n",
              "      <td>18917.460938</td>\n",
              "      <td>19898.919922</td>\n",
              "      <td>871360000</td>\n",
              "    </tr>\n",
              "    <tr>\n",
              "      <th>3325</th>\n",
              "      <td>2020-03-19</td>\n",
              "      <td>19830.009766</td>\n",
              "      <td>20442.630859</td>\n",
              "      <td>19177.130859</td>\n",
              "      <td>20087.189453</td>\n",
              "      <td>780300000</td>\n",
              "    </tr>\n",
              "    <tr>\n",
              "      <th>3326</th>\n",
              "      <td>2020-03-20</td>\n",
              "      <td>20253.150391</td>\n",
              "      <td>20531.259766</td>\n",
              "      <td>19094.269531</td>\n",
              "      <td>19173.980469</td>\n",
              "      <td>872290000</td>\n",
              "    </tr>\n",
              "    <tr>\n",
              "      <th>3327</th>\n",
              "      <td>2020-03-23</td>\n",
              "      <td>19028.359375</td>\n",
              "      <td>19121.009766</td>\n",
              "      <td>18213.650391</td>\n",
              "      <td>18591.929688</td>\n",
              "      <td>787970000</td>\n",
              "    </tr>\n",
              "  </tbody>\n",
              "</table>\n",
              "</div>"
            ],
            "text/plain": [
              "            Date          Open  ...         Close     Volume\n",
              "3323  2020-03-17  20487.050781  ...  21237.380859  793060000\n",
              "3324  2020-03-18  20188.689453  ...  19898.919922  871360000\n",
              "3325  2020-03-19  19830.009766  ...  20087.189453  780300000\n",
              "3326  2020-03-20  20253.150391  ...  19173.980469  872290000\n",
              "3327  2020-03-23  19028.359375  ...  18591.929688  787970000\n",
              "\n",
              "[5 rows x 6 columns]"
            ]
          },
          "metadata": {
            "tags": []
          },
          "execution_count": 21
        }
      ]
    },
    {
      "cell_type": "code",
      "metadata": {
        "id": "QtNhhao-nBbd",
        "colab_type": "code",
        "outputId": "3f04b1dd-5238-494a-e2ea-2dca1d46e5c5",
        "colab": {
          "base_uri": "https://localhost:8080/",
          "height": 34
        }
      },
      "source": [
        "data.columns\n",
        "data.shape"
      ],
      "execution_count": 0,
      "outputs": [
        {
          "output_type": "execute_result",
          "data": {
            "text/plain": [
              "(3328, 6)"
            ]
          },
          "metadata": {
            "tags": []
          },
          "execution_count": 22
        }
      ]
    },
    {
      "cell_type": "code",
      "metadata": {
        "id": "OEEb0u6Jaab7",
        "colab_type": "code",
        "colab": {}
      },
      "source": [
        "# get data in windows format\n",
        "\n",
        "window_len = 100 # window length to use for prediction\n",
        "useVolume = True\n",
        "\n",
        "windows = []\n",
        "\n",
        "for i in range(data.shape[0]-window_len+1):\n",
        "    windows.append(data[i:i+window_len])\n"
      ],
      "execution_count": 0,
      "outputs": []
    },
    {
      "cell_type": "code",
      "metadata": {
        "id": "q3wOnSlmaalQ",
        "colab_type": "code",
        "outputId": "fc88202d-28fb-40ff-8075-1778aa12b951",
        "colab": {
          "base_uri": "https://localhost:8080/",
          "height": 402
        }
      },
      "source": [
        "windows[-1]"
      ],
      "execution_count": 0,
      "outputs": [
        {
          "output_type": "execute_result",
          "data": {
            "text/html": [
              "<div>\n",
              "<style scoped>\n",
              "    .dataframe tbody tr th:only-of-type {\n",
              "        vertical-align: middle;\n",
              "    }\n",
              "\n",
              "    .dataframe tbody tr th {\n",
              "        vertical-align: top;\n",
              "    }\n",
              "\n",
              "    .dataframe thead th {\n",
              "        text-align: right;\n",
              "    }\n",
              "</style>\n",
              "<table border=\"1\" class=\"dataframe\">\n",
              "  <thead>\n",
              "    <tr style=\"text-align: right;\">\n",
              "      <th></th>\n",
              "      <th>Date</th>\n",
              "      <th>Open</th>\n",
              "      <th>High</th>\n",
              "      <th>Low</th>\n",
              "      <th>Close</th>\n",
              "      <th>Volume</th>\n",
              "    </tr>\n",
              "  </thead>\n",
              "  <tbody>\n",
              "    <tr>\n",
              "      <th>3228</th>\n",
              "      <td>2019-10-29</td>\n",
              "      <td>27061.070313</td>\n",
              "      <td>27165.939453</td>\n",
              "      <td>27039.759766</td>\n",
              "      <td>27071.460938</td>\n",
              "      <td>269610000</td>\n",
              "    </tr>\n",
              "    <tr>\n",
              "      <th>3229</th>\n",
              "      <td>2019-10-30</td>\n",
              "      <td>27110.710938</td>\n",
              "      <td>27204.359375</td>\n",
              "      <td>26999.640625</td>\n",
              "      <td>27186.689453</td>\n",
              "      <td>231750000</td>\n",
              "    </tr>\n",
              "    <tr>\n",
              "      <th>3230</th>\n",
              "      <td>2019-10-31</td>\n",
              "      <td>27188.369141</td>\n",
              "      <td>27188.369141</td>\n",
              "      <td>26918.289063</td>\n",
              "      <td>27046.230469</td>\n",
              "      <td>270910000</td>\n",
              "    </tr>\n",
              "    <tr>\n",
              "      <th>3231</th>\n",
              "      <td>2019-11-01</td>\n",
              "      <td>27142.949219</td>\n",
              "      <td>27347.429688</td>\n",
              "      <td>27142.949219</td>\n",
              "      <td>27347.359375</td>\n",
              "      <td>270870000</td>\n",
              "    </tr>\n",
              "    <tr>\n",
              "      <th>3232</th>\n",
              "      <td>2019-11-04</td>\n",
              "      <td>27402.060547</td>\n",
              "      <td>27517.580078</td>\n",
              "      <td>27402.060547</td>\n",
              "      <td>27462.109375</td>\n",
              "      <td>273030000</td>\n",
              "    </tr>\n",
              "    <tr>\n",
              "      <th>...</th>\n",
              "      <td>...</td>\n",
              "      <td>...</td>\n",
              "      <td>...</td>\n",
              "      <td>...</td>\n",
              "      <td>...</td>\n",
              "      <td>...</td>\n",
              "    </tr>\n",
              "    <tr>\n",
              "      <th>3323</th>\n",
              "      <td>2020-03-17</td>\n",
              "      <td>20487.050781</td>\n",
              "      <td>21379.349609</td>\n",
              "      <td>19882.259766</td>\n",
              "      <td>21237.380859</td>\n",
              "      <td>793060000</td>\n",
              "    </tr>\n",
              "    <tr>\n",
              "      <th>3324</th>\n",
              "      <td>2020-03-18</td>\n",
              "      <td>20188.689453</td>\n",
              "      <td>20489.330078</td>\n",
              "      <td>18917.460938</td>\n",
              "      <td>19898.919922</td>\n",
              "      <td>871360000</td>\n",
              "    </tr>\n",
              "    <tr>\n",
              "      <th>3325</th>\n",
              "      <td>2020-03-19</td>\n",
              "      <td>19830.009766</td>\n",
              "      <td>20442.630859</td>\n",
              "      <td>19177.130859</td>\n",
              "      <td>20087.189453</td>\n",
              "      <td>780300000</td>\n",
              "    </tr>\n",
              "    <tr>\n",
              "      <th>3326</th>\n",
              "      <td>2020-03-20</td>\n",
              "      <td>20253.150391</td>\n",
              "      <td>20531.259766</td>\n",
              "      <td>19094.269531</td>\n",
              "      <td>19173.980469</td>\n",
              "      <td>872290000</td>\n",
              "    </tr>\n",
              "    <tr>\n",
              "      <th>3327</th>\n",
              "      <td>2020-03-23</td>\n",
              "      <td>19028.359375</td>\n",
              "      <td>19121.009766</td>\n",
              "      <td>18213.650391</td>\n",
              "      <td>18591.929688</td>\n",
              "      <td>787970000</td>\n",
              "    </tr>\n",
              "  </tbody>\n",
              "</table>\n",
              "<p>100 rows × 6 columns</p>\n",
              "</div>"
            ],
            "text/plain": [
              "            Date          Open  ...         Close     Volume\n",
              "3228  2019-10-29  27061.070313  ...  27071.460938  269610000\n",
              "3229  2019-10-30  27110.710938  ...  27186.689453  231750000\n",
              "3230  2019-10-31  27188.369141  ...  27046.230469  270910000\n",
              "3231  2019-11-01  27142.949219  ...  27347.359375  270870000\n",
              "3232  2019-11-04  27402.060547  ...  27462.109375  273030000\n",
              "...          ...           ...  ...           ...        ...\n",
              "3323  2020-03-17  20487.050781  ...  21237.380859  793060000\n",
              "3324  2020-03-18  20188.689453  ...  19898.919922  871360000\n",
              "3325  2020-03-19  19830.009766  ...  20087.189453  780300000\n",
              "3326  2020-03-20  20253.150391  ...  19173.980469  872290000\n",
              "3327  2020-03-23  19028.359375  ...  18591.929688  787970000\n",
              "\n",
              "[100 rows x 6 columns]"
            ]
          },
          "metadata": {
            "tags": []
          },
          "execution_count": 42
        }
      ]
    },
    {
      "cell_type": "code",
      "metadata": {
        "id": "eNduzejCaarM",
        "colab_type": "code",
        "colab": {}
      },
      "source": [
        "# comparing two windows to get their distance \n",
        "def window_compare(window1, window2):\n",
        "  win1 = window1.Close\n",
        "  win2 = window2.Close\n",
        "  dist = np.corrcoef(win1, win2)[1,0]\n",
        "  return dist\n"
      ],
      "execution_count": 0,
      "outputs": []
    },
    {
      "cell_type": "code",
      "metadata": {
        "id": "bhnVKGwQaat8",
        "colab_type": "code",
        "outputId": "523999b8-fbdd-4087-eb68-1ff1cf26a808",
        "colab": {
          "base_uri": "https://localhost:8080/",
          "height": 34
        }
      },
      "source": [
        "window_compare(windows[1], windows[2])"
      ],
      "execution_count": 0,
      "outputs": [
        {
          "output_type": "execute_result",
          "data": {
            "text/plain": [
              "0.9817382579497858"
            ]
          },
          "metadata": {
            "tags": []
          },
          "execution_count": 46
        }
      ]
    },
    {
      "cell_type": "code",
      "metadata": {
        "id": "Q73ZGbjmaaoK",
        "colab_type": "code",
        "outputId": "8076b1d8-76ef-44eb-8133-9e594f991577",
        "colab": {
          "base_uri": "https://localhost:8080/",
          "height": 34
        }
      },
      "source": [
        "windows[1].Close\n",
        "np.corrcoef(windows[1].Close, windows[100].Close, rowvar=True)[1,0]"
      ],
      "execution_count": 0,
      "outputs": [
        {
          "output_type": "execute_result",
          "data": {
            "text/plain": [
              "0.5845374871528823"
            ]
          },
          "metadata": {
            "tags": []
          },
          "execution_count": 43
        }
      ]
    },
    {
      "cell_type": "code",
      "metadata": {
        "id": "lD6roH8daaxK",
        "colab_type": "code",
        "colab": {}
      },
      "source": [
        ""
      ],
      "execution_count": 0,
      "outputs": []
    },
    {
      "cell_type": "code",
      "metadata": {
        "id": "2oGvOXqIaaz_",
        "colab_type": "code",
        "colab": {}
      },
      "source": [
        ""
      ],
      "execution_count": 0,
      "outputs": []
    }
  ]
}