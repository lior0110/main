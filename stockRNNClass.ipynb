{
  "nbformat": 4,
  "nbformat_minor": 0,
  "metadata": {
    "colab": {
      "name": "stockRNNClass.ipynb",
      "provenance": [],
      "authorship_tag": "ABX9TyMBc8TT+0BQUqtMB+sAcn7e",
      "include_colab_link": true
    },
    "kernelspec": {
      "name": "python3",
      "display_name": "Python 3"
    }
  },
  "cells": [
    {
      "cell_type": "markdown",
      "metadata": {
        "id": "view-in-github",
        "colab_type": "text"
      },
      "source": [
        "<a href=\"https://colab.research.google.com/github/lior0110/main/blob/master/stockRNNClass.ipynb\" target=\"_parent\"><img src=\"https://colab.research.google.com/assets/colab-badge.svg\" alt=\"Open In Colab\"/></a>"
      ]
    },
    {
      "cell_type": "code",
      "metadata": {
        "id": "HSAkqCDcy7Ca",
        "colab_type": "code",
        "colab": {}
      },
      "source": [
        "import os \n",
        "if not os.path.exists('main'): os.system('git clone https://github.com/lior0110/main/')\n",
        "os.chdir('main')"
      ],
      "execution_count": 0,
      "outputs": []
    },
    {
      "cell_type": "code",
      "metadata": {
        "id": "m3cSLfsZy-IR",
        "colab_type": "code",
        "colab": {}
      },
      "source": [
        "import pandas as pd\n",
        "import numpy as np\n",
        "import matplotlib\n",
        "import matplotlib.pyplot as plt"
      ],
      "execution_count": 0,
      "outputs": []
    },
    {
      "cell_type": "code",
      "metadata": {
        "id": "dHKVmRoKDCF5",
        "colab_type": "code",
        "colab": {}
      },
      "source": [
        "import tensorflow as tf\n",
        "\n",
        "from tensorflow.keras import layers\n",
        "from tensorflow.keras import backend as K"
      ],
      "execution_count": 0,
      "outputs": []
    },
    {
      "cell_type": "code",
      "metadata": {
        "id": "EN_W9eJ2zB2F",
        "colab_type": "code",
        "colab": {}
      },
      "source": [
        "class stock_rnn:\n",
        "  def __init__(self, file1, file2, merge_column = 'Date'):\n",
        "    self.stock1 = pd.read_csv(file1, parse_dates=True)\n",
        "    self.stock2 = pd.read_csv(file2, parse_dates=True)\n",
        "    # see if 'Adj Close' is the same as 'Close'\n",
        "    # if yes drop 'Adj Close'\n",
        "    test = self.stock1['Adj Close'] == self.stock1['Close']\n",
        "    if all(self.stock1['Adj Close'] == self.stock1['Close']):\n",
        "        self.stock1 = self.stock1.drop(columns='Adj Close')\n",
        "    test = self.stock2['Adj Close'] == self.stock2['Close']\n",
        "    if all(self.stock2['Adj Close'] == self.stock2['Close']):\n",
        "        self.stock2 = self.stock2.drop(columns='Adj Close')\n",
        "    # merge the two datas\n",
        "    # self.joined_data = self.stock1.join(self.stock2.set_index('Date'), on='Date', lsuffix='_stock1', rsuffix='_stock2')\n",
        "    self.merged_data = self.stock1.merge(self.stock2, on=merge_column, suffixes=('_stock1', '_stock2'))\n",
        "    # self.merged_data = self.stock1.merge(self.stock2, on=['Date', 'Open'], suffixes=('_stock1', '_stock2'))\n",
        "\n",
        "  # make data and target arrays\n",
        "  def make_input_output(self, target_style = 'two candles', window_len = 100, useVolume = True, useJoined = True, look_forward = 1):\n",
        "    self.target_style = target_style # what is the target style we want  # / 'one candle' / 'two candles' / 'UD'\n",
        "    self.window_len = window_len # what is the input window length\n",
        "    self.useVolume = useVolume # use Volume for the calculation\n",
        "    self.useJoined = useJoined # use both datas for the calculation\n",
        "    self.look_forward = look_forward # time stemps to look forward in the target\n",
        "\n",
        "    if self.useJoined:\n",
        "      self.data = self.merged_data\n",
        "    else:\n",
        "      self.target_style = 'one candle'\n",
        "      self.data = self.stock1\n",
        "    # output initialization\n",
        "    if self.target_style == 'one candle':\n",
        "      self.y = np.zeros((self.data.shape[0]-self.window_len-self.look_forward+1,4))\n",
        "    elif self.target_style == 'UD':\n",
        "      self.y = np.zeros((self.data.shape[0]-self.window_len-self.look_forward+1,1))\n",
        "    else:\n",
        "      self.y = np.zeros((self.data.shape[0]-self.window_len-self.look_forward+1,8))\n",
        "    # input initialization\n",
        "    if self.useJoined:\n",
        "      if self.useVolume:\n",
        "        self.X = np.zeros((self.data.shape[0]-self.window_len-self.look_forward+1,self.window_len,self.data.shape[1]-1))\n",
        "      else:\n",
        "        self.X = np.zeros((self.data.shape[0]-self.window_len-self.look_forward+1,self.window_len,self.data.shape[1]-3))\n",
        "    else:\n",
        "      if self.useVolume:\n",
        "        self.X = np.zeros((self.data.shape[0]-self.window_len-self.look_forward+1,self.window_len,self.data.shape[1]-1))\n",
        "      else:\n",
        "        self.X = np.zeros((self.data.shape[0]-self.window_len-self.look_forward+1,self.window_len,self.data.shape[1]-2))\n",
        "\n",
        "    # calculate inputs and outputs\n",
        "    for i in range(self.data.shape[0]-window_len-self.look_forward+1):\n",
        "      if self.target_style == 'UD':\n",
        "        # target of Up/Down for next day\n",
        "        if (self.stock1['Close'][i+self.window_len+self.look_forward-1] - self.stock1['Close'][i+self.window_len-1]) > 0:\n",
        "          self.y[i] = 1\n",
        "        elif (self.stock1['Close'][i+self.window_len+self.look_forward-1] - self.stock1['Close'][i+self.window_len-1]) < 0:\n",
        "          self.y[i] = -1\n",
        "        else:\n",
        "          self.y[i] = 0\n",
        "      if self.target_style == 'one candle':\n",
        "        # predict next candle\n",
        "        # self.y[i] = self.data.iloc[i+self.window_len,1:5]\n",
        "        if self.useJoined:\n",
        "          self.y[i][0] = self.data.Open_stock1[i+self.window_len] # next Open\n",
        "          self.y[i][1] = self.data.High_stock1[i+self.window_len:i+self.window_len+self.look_forward].max() # next High\n",
        "          self.y[i][2] = self.data.Low_stock1[i+self.window_len:i+self.window_len+self.look_forward].min() # next Low\n",
        "          self.y[i][3] = self.data.Close_stock1[i+self.window_len+self.look_forward-1] # next Close\n",
        "        else:\n",
        "          self.y[i][0] = self.data.Open[i+self.window_len] # next Open\n",
        "          self.y[i][1] = self.data.High[i+self.window_len:i+self.window_len+self.look_forward].max() # next High\n",
        "          self.y[i][2] = self.data.Low[i+self.window_len:i+self.window_len+self.look_forward].min() # next Low\n",
        "          self.y[i][3] = self.data.Close[i+self.window_len+self.look_forward-1] # next Close\n",
        "      else:\n",
        "        # predict next candle in both datas\n",
        "        # self.y[i][:4] = self.data.iloc[i+self.window_len,1:5]\n",
        "        # self.y[i][4:] = self.data.iloc[i+self.window_len,6:10]\n",
        "        # for stock1\n",
        "        self.y[i][0] = self.data.Open_stock1[i+self.window_len] # next Open\n",
        "        self.y[i][1] = self.data.High_stock1[i+self.window_len:i+self.window_len+self.look_forward].max() # next High\n",
        "        self.y[i][2] = self.data.Low_stock1[i+self.window_len:i+self.window_len+self.look_forward].min() # next Low\n",
        "        self.y[i][3] = self.data.Close_stock1[i+self.window_len+self.look_forward-1] # next Close\n",
        "        # for stock2\n",
        "        self.y[i][4] = self.data.Open_stock2[i+self.window_len] # next Open\n",
        "        self.y[i][5] = self.data.High_stock2[i+self.window_len:i+self.window_len+self.look_forward].max() # next High\n",
        "        self.y[i][6] = self.data.Low_stock2[i+self.window_len:i+self.window_len+self.look_forward].min() # next Low\n",
        "        self.y[i][7] = self.data.Close_stock2[i+self.window_len+self.look_forward-1] # next Close\n",
        "            \n",
        "      if useVolume:\n",
        "        self.X[i,:,:] = self.data.iloc[i:i+self.window_len,1:].values\n",
        "      else:\n",
        "        if useJoined:\n",
        "          self.X[i,:,:4] = self.data.iloc[i:i+self.window_len,1:5].values\n",
        "          self.X[i,:,4:] = self.data.iloc[i:i+self.window_len,6:10].values\n",
        "        else:\n",
        "          self.X[i,:,:] = self.data.iloc[i:i+self.window_len,1:-1].values\n",
        "\n",
        "  def make_train_test(self, data_distribution = (0.7, 0.15, 0.15), start_on = 0):\n",
        "    self.data_distribution = np.array(data_distribution) # data distribution\n",
        "    if all(self.data_distribution < 1):\n",
        "      self.data_distribution = np.floor(self.data_distribution * self.X.shape[0])\n",
        "    # initialization\n",
        "    # self.y_train = np.zeros((self.data_distribution[0], self.y.shape[1]))\n",
        "    # self.y_valid = np.zeros((self.data_distribution[1], self.y.shape[1]))\n",
        "    # self.y_test = np.zeros((self.data_distribution[2], self.y.shape[1]))\n",
        "    \n",
        "    # self.X_train = np.zeros((self.data_distribution[0], self.X.shape[1], self.X.shape[2]))\n",
        "    # self.X_valid = np.zeros((self.data_distribution[0], self.X.shape[1], self.X.shape[2]))\n",
        "    # self.X_test = np.zeros((self.data_distribution[0], self.X.shape[1], self.X.shape[2]))\n",
        "    \n",
        "    # train test split\n",
        "    self.y_train = self.y[start_on:int(start_on + self.data_distribution[0]),:].copy()\n",
        "    self.y_valid = self.y[int(start_on + self.data_distribution[0]):int(start_on + self.data_distribution[0:2].sum()),:].copy()\n",
        "    self.y_test = self.y[int(start_on + self.data_distribution[0:2].sum()):int(start_on + self.data_distribution.sum()),:].copy()\n",
        "    self.X_train = self.X[start_on:int(start_on + self.data_distribution[0]),:,:].copy()\n",
        "    self.X_valid = self.X[int(start_on + self.data_distribution[0]):int(start_on + self.data_distribution[0:2].sum()),:,:].copy()\n",
        "    self.X_test = self.X[int(start_on + self.data_distribution[0:2].sum()):int(start_on + self.data_distribution.sum()),:,:].copy()\n",
        "\n",
        "    # get the max and min in the train data\n",
        "    self.get_max_min()\n",
        "\n",
        "    # data scaling\n",
        "    self.X_train = self.data_scale(self.X_train)\n",
        "    self.X_valid = self.data_scale(self.X_valid)\n",
        "    self.X_test = self.data_scale(self.X_test)\n",
        "\n",
        "    # target scaling\n",
        "    self.target_scale()\n",
        "\n",
        "  def get_max_min(self):\n",
        "    # get the max and min in the train data\n",
        "    if self.useJoined:\n",
        "      if self.useVolume:\n",
        "        self.maxPrice = np.max(self.X_train[:,:,:4])\n",
        "        # print('max Price: ',self.maxPrice)\n",
        "        self.minPrice = np.min(self.X_train[:,:,:4])\n",
        "        # print('min Price: ',self.minPrice)\n",
        "        self.maxPrice2 = np.max(self.X_train[:,:,5:-1])\n",
        "        # print('max Price2: ',self.maxPrice2)\n",
        "        self.minPrice2 = np.min(self.X_train[:,:,5:-1])\n",
        "        # print('min Price2: ',self.minPrice2)\n",
        "        self.maxVolume = np.max(self.X_train[:,:,4])\n",
        "        # print('max Volume: ',self.maxVolume)\n",
        "        self.minVolume = np.min(self.X_train[:,:,4])\n",
        "        # print('min Volume: ',self.minVolume)\n",
        "        self.maxVolume2 = np.max(self.X_train[:,:,-1])\n",
        "        # print('max Volume2: ',self.maxVolume2)\n",
        "        self.minVolume2 = np.min(self.X_train[:,:,-1])\n",
        "        # print('min Volume2: ',self.minVolume2)\n",
        "      else:\n",
        "        self.maxPrice = np.max(self.X_train[:,:,:4])\n",
        "        # print('max Price: ',self.maxPrice)\n",
        "        self.minPrice = np.min(self.X_train[:,:,:4])\n",
        "        # print('min Price: ',self.minPrice)\n",
        "        self.maxPrice2 = np.max(self.X_train[:,:,4:])\n",
        "        # print('max Price2: ',self.maxPrice2)\n",
        "        self.minPrice2 = np.min(self.X_train[:,:,4:])\n",
        "        # print('min Price2: ',self.minPrice2)\n",
        "    else:\n",
        "      self.maxPrice = np.max(self.X_train[:,:,:-1])\n",
        "      # print('max Price: ',self.maxPrice)\n",
        "      self.minPrice = np.min(self.X_train[:,:,:-1])\n",
        "      # print('min Price: ',self.minPrice)\n",
        "      if self.useVolume:\n",
        "        self.maxVolume = np.max(self.X_train[:,:,-1])\n",
        "        # print('max Volume: ',self.maxVolume)\n",
        "        self.minVolume = np.min(self.X_train[:,:,-1])\n",
        "        # print('min Volume: ',self.minVolume)\n",
        "\n",
        "  def data_scale(self, data):\n",
        "    # data scaling\n",
        "    scaled_data = data\n",
        "    if self.useJoined:\n",
        "      if self.useVolume:\n",
        "        scaled_data[:,:,:4] = (data[:,:,:4] - self.minPrice) / (self.maxPrice - self.minPrice)\n",
        "        scaled_data[:,:,4] = (data[:,:,4] - self.minVolume) / (self.maxVolume - self.minVolume)\n",
        "        scaled_data[:,:,5:-1] = (data[:,:,5:-1] - self.minPrice2) / (self.maxPrice - self.minPrice2)\n",
        "        scaled_data[:,:,-1] = (data[:,:,-1] - self.minVolume2) / (self.maxVolume2 - self.minVolume2)\n",
        "      else:\n",
        "        scaled_data[:,:,:4] = (data[:,:,:4] - self.minPrice) / (self.maxPrice - self.minPrice)\n",
        "        scaled_data[:,:,4:] = (data[:,:,4:] - self.minPrice2) / (self.maxPrice - self.minPrice2)\n",
        "    else:\n",
        "      if self.useVolume:\n",
        "        scaled_data[:,:,:-1] = (data[:,:,:-1] - self.minPrice) / (self.maxPrice - self.minPrice)\n",
        "        scaled_data[:,:,-1] = (data[:,:,-1] - self.minVolume) / (self.maxVolume - self.minVolume)\n",
        "      else:\n",
        "        scaled_data[:,:,:] = (data[:,:,:] - self.minPrice) / (self.maxPrice - self.minPrice)\n",
        "    \n",
        "    return scaled_data\n",
        "\n",
        "  def data_descale(self, data):\n",
        "    # data descaling\n",
        "    descaled_data = data\n",
        "    if self.useJoined:\n",
        "      if self.useVolume:\n",
        "        descaled_data[:,:,:4] = data[:,:,:4] * (self.maxPrice - self.minPrice) + self.minPrice\n",
        "        descaled_data[:,:,4] = data[:,:,4] * (self.maxVolume - self.minVolume) + self.minVolume\n",
        "        descaled_data[:,:,5:-1] = data[:,:,5:-1] * (self.maxPrice - self.minPrice2) + self.minPrice2\n",
        "        descaled_data[:,:,-1] = data[:,:,-1] * (self.maxVolume2 - self.minVolume2) + self.minVolume2\n",
        "      else:\n",
        "        descaled_data[:,:,:4] = data[:,:,:4] * (self.maxPrice - self.minPrice) + self.minPrice\n",
        "        descaled_data[:,:,4:] = data[:,:,4:] * (self.maxPrice - self.minPrice2) + self.minPrice2\n",
        "    else:\n",
        "      if self.useVolume:\n",
        "        descaled_data[:,:,:-1] = data[:,:,:-1] * (self.maxPrice - self.minPrice) + self.minPrice\n",
        "        descaled_data[:,:,-1] = data[:,:,-1] * (self.maxVolume - self.minVolume) + self.minVolume\n",
        "      else:\n",
        "        descaled_data[:,:,:] = data[:,:,:] * (self.maxPrice - self.minPrice) + self.minPrice\n",
        "    \n",
        "    return descaled_data\n",
        "\n",
        "  def target_scale(self):\n",
        "    # target scaling\n",
        "    if self.target_style == 'one candle':\n",
        "      self.y_train = (self.y_train - self.minPrice) / (self.maxPrice - self.minPrice)\n",
        "      # plt.plot(self.y_train)\n",
        "      # plt.show()\n",
        "      self.y_valid = (self.y_valid - self.minPrice) / (self.maxPrice - self.minPrice)\n",
        "      # plt.plot(self.y_valid)\n",
        "      # plt.show()\n",
        "      self.y_test = (self.y_test - self.minPrice) / (self.maxPrice - self.minPrice)\n",
        "      # plt.plot(self.y_test)\n",
        "      # plt.show()\n",
        "    if self.target_style == 'two candles':\n",
        "      # x=1\n",
        "      self.y_train[:,:4] = (self.y_train[:,:4] - self.minPrice) / (self.maxPrice - self.minPrice)\n",
        "      self.y_train[:,4:] = (self.y_train[:,4:] - self.minPrice2) / (self.maxPrice2 - self.minPrice2)\n",
        "      # plt.plot(self.y_train)\n",
        "      # plt.show()\n",
        "      self.y_valid[:,:4] = (self.y_valid[:,:4] - self.minPrice) / (self.maxPrice - self.minPrice)\n",
        "      self.y_valid[:,4:] = (self.y_valid[:,4:] - self.minPrice2) / (self.maxPrice2 - self.minPrice2)\n",
        "      # plt.plot(self.y_valid)\n",
        "      # plt.show()\n",
        "      self.y_test[:,:4] = (self.y_test[:,:4] - self.minPrice) / (self.maxPrice - self.minPrice)\n",
        "      self.y_test[:,4:] = (self.y_test[:,4:] - self.minPrice2) / (self.maxPrice2 - self.minPrice2)\n",
        "      # plt.plot(self.y_test)\n",
        "      # plt.show()\n",
        "\n",
        "  def target_descale(self, data):\n",
        "    # target descaling\n",
        "    descaled_target = data\n",
        "    if self.target_style == 'one candle':\n",
        "      descaled_target = data * (self.maxPrice - self.minPrice) + self.minPrice\n",
        "    if self.target_style == 'two candles':\n",
        "      descaled_target[:,:4] = data[:,:4] * (self.maxPrice - self.minPrice) + self.minPrice\n",
        "      descaled_target[:,4:] = data[:,4:] * (self.maxPrice2 - self.minPrice2) + self.minPrice2\n",
        "    return descaled_target\n",
        "\n",
        "  def getModel(self, architecture = 'GRU'):\n",
        "    if architecture == 'LSTM':\n",
        "      # The LSTM architecture\n",
        "      regressorLSTM = tf.keras.Sequential()\n",
        "      # First LSTM layer with Dropout regularisation\n",
        "      regressorLSTM.add(layers.LSTM(units=50, return_sequences=True, input_shape=(self.X_train.shape[1],self.X_train.shape[2])))\n",
        "      regressorLSTM.add(layers.Dropout(0.2))\n",
        "      # Second LSTM layer\n",
        "      regressorLSTM.add(layers.LSTM(units=50, return_sequences=True))\n",
        "      regressorLSTM.add(layers.Dropout(0.2))\n",
        "      # Third LSTM layer\n",
        "      regressorLSTM.add(layers.LSTM(units=50, return_sequences=True))\n",
        "      regressorLSTM.add(layers.Dropout(0.2))\n",
        "      # Fourth LSTM layer \n",
        "      regressorLSTM.add(layers.LSTM(units=50))\n",
        "      regressorLSTM.add(layers.Dropout(0.2))\n",
        "      # The output layer\n",
        "      regressorLSTM.add(layers.Dense(units=self.y_train.shape[1]))\n",
        "\n",
        "      self.Model = regressorLSTM\n",
        "    else: # architecture == 'GRU'\n",
        "      # The GRU architecture\n",
        "      regressorGRU = tf.keras.Sequential()\n",
        "      # First GRU layer with Dropout regularisation\n",
        "      regressorGRU.add(layers.GRU(units=50, return_sequences=True, input_shape=(self.X_train.shape[1],self.X_train.shape[2])))\n",
        "      regressorGRU.add(layers.Dropout(0.2))\n",
        "      # Second GRU layer\n",
        "      regressorGRU.add(layers.GRU(units=50, return_sequences=True, input_shape=(self.X_train.shape[1],self.X_train.shape[2])))\n",
        "      regressorGRU.add(layers.Dropout(0.2))\n",
        "      # Third GRU layer\n",
        "      regressorGRU.add(layers.GRU(units=50, return_sequences=True, input_shape=(self.X_train.shape[1],self.X_train.shape[2])))\n",
        "      regressorGRU.add(layers.Dropout(0.2))\n",
        "      # Fourth GRU layer\n",
        "      regressorGRU.add(layers.GRU(units=50))\n",
        "      regressorGRU.add(layers.Dropout(0.2))\n",
        "      # The output layer\n",
        "      regressorGRU.add(layers.Dense(units=self.y_train.shape[1]))\n",
        "\n",
        "      self.Model = regressorGRU\n",
        "\n",
        "  def one_time_training(self):\n",
        "    self.getModel(architecture = 'GRU')\n",
        "    callback = tf.keras.callbacks.EarlyStopping(monitor='val_loss', patience=5, restore_best_weights=True)\n",
        "    self.Model.compile(optimizer='RMSProp', loss='mse', metrics=['mse']) # optimizer='Adam'/'RMSProp' \n",
        "    print(self.Model.summary())\n",
        "    self.hist = self.Model.fit(self.X_train, self.y_train, epochs = 100, callbacks=[callback], validation_data=(self.X_valid, self.y_valid)) # , batch_size=32\n",
        "\n",
        "\n",
        "\n",
        "\n",
        "\n"
      ],
      "execution_count": 0,
      "outputs": []
    },
    {
      "cell_type": "code",
      "metadata": {
        "id": "7E_mCjyKzBzL",
        "colab_type": "code",
        "colab": {
          "base_uri": "https://localhost:8080/",
          "height": 903
        },
        "outputId": "14c8c879-d7b5-40e5-9f22-a33b16e98900"
      },
      "source": [
        "T = stock_rnn('DJI.csv','GSPC.csv')\n",
        "T.make_input_output()\n",
        "T.make_train_test()\n",
        "T.one_time_training()"
      ],
      "execution_count": 267,
      "outputs": [
        {
          "output_type": "stream",
          "text": [
            "Model: \"sequential_1\"\n",
            "_________________________________________________________________\n",
            "Layer (type)                 Output Shape              Param #   \n",
            "=================================================================\n",
            "gru (GRU)                    (None, 100, 50)           9300      \n",
            "_________________________________________________________________\n",
            "dropout (Dropout)            (None, 100, 50)           0         \n",
            "_________________________________________________________________\n",
            "gru_1 (GRU)                  (None, 100, 50)           15300     \n",
            "_________________________________________________________________\n",
            "dropout_1 (Dropout)          (None, 100, 50)           0         \n",
            "_________________________________________________________________\n",
            "gru_2 (GRU)                  (None, 100, 50)           15300     \n",
            "_________________________________________________________________\n",
            "dropout_2 (Dropout)          (None, 100, 50)           0         \n",
            "_________________________________________________________________\n",
            "gru_3 (GRU)                  (None, 50)                15300     \n",
            "_________________________________________________________________\n",
            "dropout_3 (Dropout)          (None, 50)                0         \n",
            "_________________________________________________________________\n",
            "dense (Dense)                (None, 8)                 408       \n",
            "=================================================================\n",
            "Total params: 55,608\n",
            "Trainable params: 55,608\n",
            "Non-trainable params: 0\n",
            "_________________________________________________________________\n",
            "None\n",
            "Epoch 1/100\n",
            "71/71 [==============================] - 16s 223ms/step - loss: 0.0291 - mse: 0.0291 - val_loss: 0.1463 - val_mse: 0.1433\n",
            "Epoch 2/100\n",
            "71/71 [==============================] - 14s 201ms/step - loss: 0.0147 - mse: 0.0148 - val_loss: 0.0100 - val_mse: 0.0097\n",
            "Epoch 3/100\n",
            "71/71 [==============================] - 15s 207ms/step - loss: 0.0122 - mse: 0.0122 - val_loss: 0.0846 - val_mse: 0.0831\n",
            "Epoch 4/100\n",
            "71/71 [==============================] - 15s 205ms/step - loss: 0.0112 - mse: 0.0112 - val_loss: 0.0698 - val_mse: 0.0685\n",
            "Epoch 5/100\n",
            "71/71 [==============================] - 15s 207ms/step - loss: 0.0087 - mse: 0.0087 - val_loss: 0.0082 - val_mse: 0.0080\n",
            "Epoch 6/100\n",
            "71/71 [==============================] - 16s 220ms/step - loss: 0.0077 - mse: 0.0077 - val_loss: 0.0365 - val_mse: 0.0361\n",
            "Epoch 7/100\n",
            "71/71 [==============================] - 15s 207ms/step - loss: 0.0071 - mse: 0.0071 - val_loss: 0.0064 - val_mse: 0.0062\n",
            "Epoch 8/100\n",
            "71/71 [==============================] - 15s 207ms/step - loss: 0.0067 - mse: 0.0067 - val_loss: 0.0058 - val_mse: 0.0056\n",
            "Epoch 9/100\n",
            "71/71 [==============================] - 15s 204ms/step - loss: 0.0062 - mse: 0.0062 - val_loss: 0.0071 - val_mse: 0.0068\n",
            "Epoch 10/100\n",
            "71/71 [==============================] - 15s 207ms/step - loss: 0.0053 - mse: 0.0053 - val_loss: 0.0130 - val_mse: 0.0127\n",
            "Epoch 11/100\n",
            "71/71 [==============================] - 15s 206ms/step - loss: 0.0053 - mse: 0.0053 - val_loss: 0.0117 - val_mse: 0.0114\n",
            "Epoch 12/100\n",
            "71/71 [==============================] - 14s 202ms/step - loss: 0.0051 - mse: 0.0051 - val_loss: 0.0203 - val_mse: 0.0198\n",
            "Epoch 13/100\n",
            "71/71 [==============================] - 15s 206ms/step - loss: 0.0044 - mse: 0.0044 - val_loss: 0.0064 - val_mse: 0.0061\n"
          ],
          "name": "stdout"
        }
      ]
    },
    {
      "cell_type": "code",
      "metadata": {
        "id": "5nsr9gGY9MiR",
        "colab_type": "code",
        "colab": {
          "base_uri": "https://localhost:8080/",
          "height": 295
        },
        "outputId": "56efe2f5-b786-4127-88b9-aef9cc7f10cb"
      },
      "source": [
        "# T.make_input_output()\n",
        "# T.make_train_test(data_distribution = (500,100,100), start_on=1000)\n",
        "# T.y_train.shape\n",
        "# T.X_train[0,0,:]\n",
        "predicted_stock_price = T.Model.predict(T.X_valid)\n",
        "\n",
        "# Visualising the test results\n",
        "plt.plot(T.y_valid, color = 'pink', label = 'Real Stock Price')\n",
        "plt.plot(predicted_stock_price, color = 'blue', label = 'Predicted Stock Price')\n",
        "plt.title('Stock Price Prediction on test data')\n",
        "plt.xlabel('Time')\n",
        "plt.ylabel('Stock Price on test data')\n",
        "# plt.legend()\n",
        "plt.show()\n",
        "\n",
        "# plt.plot(T.y_train)"
      ],
      "execution_count": 270,
      "outputs": [
        {
          "output_type": "display_data",
          "data": {
            "image/png": "[encoded data removed]",
            "text/plain": [
              "<Figure size 432x288 with 1 Axes>"
            ]
          },
          "metadata": {
            "tags": []
          }
        }
      ]
    },
    {
      "cell_type": "code",
      "metadata": {
        "id": "b_OwDQaazBwF",
        "colab_type": "code",
        "colab": {
          "base_uri": "https://localhost:8080/",
          "height": 33
        },
        "outputId": "8a476e46-f46c-47e1-eb7a-0603fd8a641f"
      },
      "source": [
        "data_distribution = np.array([0.7, 0.15, 0.15])\n",
        "# if a < 1:\n",
        "data_distribution *= 10 \n",
        "data_distribution.round() #np.floor(data_distribution)\n",
        "data_distribution.sum()"
      ],
      "execution_count": 30,
      "outputs": [
        {
          "output_type": "execute_result",
          "data": {
            "text/plain": [
              "10.0"
            ]
          },
          "metadata": {
            "tags": []
          },
          "execution_count": 30
        }
      ]
    },
    {
      "cell_type": "code",
      "metadata": {
        "id": "ZLzDQthezBtE",
        "colab_type": "code",
        "colab": {
          "base_uri": "https://localhost:8080/",
          "height": 33
        },
        "outputId": "4c647cab-867f-4c40-f6e3-df5796bdce8c"
      },
      "source": [
        "T.y_train.shape"
      ],
      "execution_count": 226,
      "outputs": [
        {
          "output_type": "execute_result",
          "data": {
            "text/plain": [
              "(400, 8)"
            ]
          },
          "metadata": {
            "tags": []
          },
          "execution_count": 226
        }
      ]
    },
    {
      "cell_type": "code",
      "metadata": {
        "id": "F9ftOVcszBqF",
        "colab_type": "code",
        "colab": {}
      },
      "source": [
        ""
      ],
      "execution_count": 0,
      "outputs": []
    },
    {
      "cell_type": "code",
      "metadata": {
        "id": "Gezb-Y85zBl-",
        "colab_type": "code",
        "colab": {}
      },
      "source": [
        ""
      ],
      "execution_count": 0,
      "outputs": []
    },
    {
      "cell_type": "code",
      "metadata": {
        "id": "18TPoU3NzBdE",
        "colab_type": "code",
        "colab": {}
      },
      "source": [
        ""
      ],
      "execution_count": 0,
      "outputs": []
    }
  ]
}