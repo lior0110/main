{
  "nbformat": 4,
  "nbformat_minor": 0,
  "metadata": {
    "kernelspec": {
      "display_name": "Python 3",
      "language": "python",
      "name": "python3"
    },
    "language_info": {
      "codemirror_mode": {
        "name": "ipython",
        "version": 3
      },
      "file_extension": ".py",
      "mimetype": "text/x-python",
      "name": "python",
      "nbconvert_exporter": "python",
      "pygments_lexer": "ipython3",
      "version": "3.7.7"
    },
    "colab": {
      "name": "DJI_test.ipynb",
      "provenance": [],
      "include_colab_link": true
    }
  },
  "cells": [
    {
      "cell_type": "markdown",
      "metadata": {
        "id": "view-in-github",
        "colab_type": "text"
      },
      "source": [
        "<a href=\"https://colab.research.google.com/github/lior0110/main/blob/master/DJI_test.ipynb\" target=\"_parent\"><img src=\"https://colab.research.google.com/assets/colab-badge.svg\" alt=\"Open In Colab\"/></a>"
      ]
    },
    {
      "cell_type": "markdown",
      "metadata": {
        "id": "Kd_samnJo6Uc",
        "colab_type": "text"
      },
      "source": [
        "[![Open In Colab](https://colab.research.google.com/assets/colab-badge.svg)](https://colab.research.google.com/github/lior0110/main/blob/master/DJI_test.ipynb)"
      ]
    },
    {
      "cell_type": "code",
      "metadata": {
        "id": "H9voU75YpfVs",
        "colab_type": "code",
        "colab": {}
      },
      "source": [
        "import os \n",
        "if not os.path.exists('main'): os.system('git clone https://github.com/lior0110/main/')\n",
        "os.chdir('main')"
      ],
      "execution_count": 0,
      "outputs": []
    },
    {
      "cell_type": "code",
      "metadata": {
        "id": "mnplwysUnBbK",
        "colab_type": "code",
        "colab": {}
      },
      "source": [
        "import pandas as pd\n",
        "import numpy as np\n",
        "import matplotlib\n",
        "import matplotlib.pyplot as plt"
      ],
      "execution_count": 0,
      "outputs": []
    },
    {
      "cell_type": "code",
      "metadata": {
        "id": "LKyITYXHnBbO",
        "colab_type": "code",
        "colab": {
          "base_uri": "https://localhost:8080/",
          "height": 225
        },
        "outputId": "cf91d33a-3f66-46d1-ede9-767d9fba33cb"
      },
      "source": [
        "# read the given data\n",
        "data = pd.read_csv('DJI2.csv', index_col=0, parse_dates=True)\n",
        "data.head()"
      ],
      "execution_count": 4,
      "outputs": [
        {
          "output_type": "execute_result",
          "data": {
            "text/html": [
              "<div>\n",
              "<style scoped>\n",
              "    .dataframe tbody tr th:only-of-type {\n",
              "        vertical-align: middle;\n",
              "    }\n",
              "\n",
              "    .dataframe tbody tr th {\n",
              "        vertical-align: top;\n",
              "    }\n",
              "\n",
              "    .dataframe thead th {\n",
              "        text-align: right;\n",
              "    }\n",
              "</style>\n",
              "<table border=\"1\" class=\"dataframe\">\n",
              "  <thead>\n",
              "    <tr style=\"text-align: right;\">\n",
              "      <th></th>\n",
              "      <th>Open</th>\n",
              "      <th>High</th>\n",
              "      <th>Low</th>\n",
              "      <th>Close</th>\n",
              "      <th>Adj Close</th>\n",
              "      <th>Volume</th>\n",
              "    </tr>\n",
              "    <tr>\n",
              "      <th>Date</th>\n",
              "      <th></th>\n",
              "      <th></th>\n",
              "      <th></th>\n",
              "      <th></th>\n",
              "      <th></th>\n",
              "      <th></th>\n",
              "    </tr>\n",
              "  </thead>\n",
              "  <tbody>\n",
              "    <tr>\n",
              "      <th>2007-01-03</th>\n",
              "      <td>12459.540039</td>\n",
              "      <td>12580.349609</td>\n",
              "      <td>12404.820313</td>\n",
              "      <td>12474.519531</td>\n",
              "      <td>12474.519531</td>\n",
              "      <td>327200000</td>\n",
              "    </tr>\n",
              "    <tr>\n",
              "      <th>2007-01-04</th>\n",
              "      <td>12473.160156</td>\n",
              "      <td>12510.410156</td>\n",
              "      <td>12403.860352</td>\n",
              "      <td>12480.690430</td>\n",
              "      <td>12480.690430</td>\n",
              "      <td>259060000</td>\n",
              "    </tr>\n",
              "    <tr>\n",
              "      <th>2007-01-05</th>\n",
              "      <td>12480.049805</td>\n",
              "      <td>12480.129883</td>\n",
              "      <td>12365.410156</td>\n",
              "      <td>12398.009766</td>\n",
              "      <td>12398.009766</td>\n",
              "      <td>235220000</td>\n",
              "    </tr>\n",
              "    <tr>\n",
              "      <th>2007-01-08</th>\n",
              "      <td>12392.009766</td>\n",
              "      <td>12445.919922</td>\n",
              "      <td>12337.370117</td>\n",
              "      <td>12423.490234</td>\n",
              "      <td>12423.490234</td>\n",
              "      <td>223500000</td>\n",
              "    </tr>\n",
              "    <tr>\n",
              "      <th>2007-01-09</th>\n",
              "      <td>12424.769531</td>\n",
              "      <td>12466.429688</td>\n",
              "      <td>12369.169922</td>\n",
              "      <td>12416.599609</td>\n",
              "      <td>12416.599609</td>\n",
              "      <td>225190000</td>\n",
              "    </tr>\n",
              "  </tbody>\n",
              "</table>\n",
              "</div>"
            ],
            "text/plain": [
              "                    Open          High  ...     Adj Close     Volume\n",
              "Date                                    ...                         \n",
              "2007-01-03  12459.540039  12580.349609  ...  12474.519531  327200000\n",
              "2007-01-04  12473.160156  12510.410156  ...  12480.690430  259060000\n",
              "2007-01-05  12480.049805  12480.129883  ...  12398.009766  235220000\n",
              "2007-01-08  12392.009766  12445.919922  ...  12423.490234  223500000\n",
              "2007-01-09  12424.769531  12466.429688  ...  12416.599609  225190000\n",
              "\n",
              "[5 rows x 6 columns]"
            ]
          },
          "metadata": {
            "tags": []
          },
          "execution_count": 4
        }
      ]
    },
    {
      "cell_type": "code",
      "metadata": {
        "id": "kcqOvSYJnBbR",
        "colab_type": "code",
        "colab": {
          "base_uri": "https://localhost:8080/",
          "height": 235
        },
        "outputId": "919dd851-807b-4439-c8ef-9fadf2a25041"
      },
      "source": [
        "data.info()"
      ],
      "execution_count": 5,
      "outputs": [
        {
          "output_type": "stream",
          "text": [
            "<class 'pandas.core.frame.DataFrame'>\n",
            "DatetimeIndex: 3328 entries, 2007-01-03 to 2020-03-23\n",
            "Data columns (total 6 columns):\n",
            " #   Column     Non-Null Count  Dtype  \n",
            "---  ------     --------------  -----  \n",
            " 0   Open       3328 non-null   float64\n",
            " 1   High       3328 non-null   float64\n",
            " 2   Low        3328 non-null   float64\n",
            " 3   Close      3328 non-null   float64\n",
            " 4   Adj Close  3328 non-null   float64\n",
            " 5   Volume     3328 non-null   int64  \n",
            "dtypes: float64(5), int64(1)\n",
            "memory usage: 182.0 KB\n"
          ],
          "name": "stdout"
        }
      ]
    },
    {
      "cell_type": "code",
      "metadata": {
        "id": "yHaVKqEJnBbU",
        "colab_type": "code",
        "colab": {
          "base_uri": "https://localhost:8080/",
          "height": 286
        },
        "outputId": "a2eeb276-7662-4906-87ce-88e3975285c8"
      },
      "source": [
        "data['Adj Close'].plot()"
      ],
      "execution_count": 6,
      "outputs": [
        {
          "output_type": "execute_result",
          "data": {
            "text/plain": [
              "<matplotlib.axes._subplots.AxesSubplot at 0x7ff036e187f0>"
            ]
          },
          "metadata": {
            "tags": []
          },
          "execution_count": 6
        },
        {
          "output_type": "display_data",
          "data": {
            "image/png": "[encoded data removed]",
            "text/plain": [
              "<Figure size 432x288 with 1 Axes>"
            ]
          },
          "metadata": {
            "tags": []
          }
        }
      ]
    },
    {
      "cell_type": "code",
      "metadata": {
        "id": "NuMLuE5DnBbX",
        "colab_type": "code",
        "colab": {}
      },
      "source": [
        "# see if 'Adj Close' is the same as 'Close'\n",
        "# if yes drop 'Adj Close'\n",
        "test = data['Adj Close'] == data['Close']\n",
        "if all(data['Adj Close'] == data['Close']):\n",
        "    data = data.drop(columns='Adj Close')\n",
        "\n"
      ],
      "execution_count": 0,
      "outputs": []
    },
    {
      "cell_type": "code",
      "metadata": {
        "id": "2Hr9jOQWnBba",
        "colab_type": "code",
        "colab": {
          "base_uri": "https://localhost:8080/",
          "height": 225
        },
        "outputId": "cb66bbb0-8db0-461c-bd7f-56733ecfcc71"
      },
      "source": [
        "data.head()"
      ],
      "execution_count": 8,
      "outputs": [
        {
          "output_type": "execute_result",
          "data": {
            "text/html": [
              "<div>\n",
              "<style scoped>\n",
              "    .dataframe tbody tr th:only-of-type {\n",
              "        vertical-align: middle;\n",
              "    }\n",
              "\n",
              "    .dataframe tbody tr th {\n",
              "        vertical-align: top;\n",
              "    }\n",
              "\n",
              "    .dataframe thead th {\n",
              "        text-align: right;\n",
              "    }\n",
              "</style>\n",
              "<table border=\"1\" class=\"dataframe\">\n",
              "  <thead>\n",
              "    <tr style=\"text-align: right;\">\n",
              "      <th></th>\n",
              "      <th>Open</th>\n",
              "      <th>High</th>\n",
              "      <th>Low</th>\n",
              "      <th>Close</th>\n",
              "      <th>Volume</th>\n",
              "    </tr>\n",
              "    <tr>\n",
              "      <th>Date</th>\n",
              "      <th></th>\n",
              "      <th></th>\n",
              "      <th></th>\n",
              "      <th></th>\n",
              "      <th></th>\n",
              "    </tr>\n",
              "  </thead>\n",
              "  <tbody>\n",
              "    <tr>\n",
              "      <th>2007-01-03</th>\n",
              "      <td>12459.540039</td>\n",
              "      <td>12580.349609</td>\n",
              "      <td>12404.820313</td>\n",
              "      <td>12474.519531</td>\n",
              "      <td>327200000</td>\n",
              "    </tr>\n",
              "    <tr>\n",
              "      <th>2007-01-04</th>\n",
              "      <td>12473.160156</td>\n",
              "      <td>12510.410156</td>\n",
              "      <td>12403.860352</td>\n",
              "      <td>12480.690430</td>\n",
              "      <td>259060000</td>\n",
              "    </tr>\n",
              "    <tr>\n",
              "      <th>2007-01-05</th>\n",
              "      <td>12480.049805</td>\n",
              "      <td>12480.129883</td>\n",
              "      <td>12365.410156</td>\n",
              "      <td>12398.009766</td>\n",
              "      <td>235220000</td>\n",
              "    </tr>\n",
              "    <tr>\n",
              "      <th>2007-01-08</th>\n",
              "      <td>12392.009766</td>\n",
              "      <td>12445.919922</td>\n",
              "      <td>12337.370117</td>\n",
              "      <td>12423.490234</td>\n",
              "      <td>223500000</td>\n",
              "    </tr>\n",
              "    <tr>\n",
              "      <th>2007-01-09</th>\n",
              "      <td>12424.769531</td>\n",
              "      <td>12466.429688</td>\n",
              "      <td>12369.169922</td>\n",
              "      <td>12416.599609</td>\n",
              "      <td>225190000</td>\n",
              "    </tr>\n",
              "  </tbody>\n",
              "</table>\n",
              "</div>"
            ],
            "text/plain": [
              "                    Open          High           Low         Close     Volume\n",
              "Date                                                                         \n",
              "2007-01-03  12459.540039  12580.349609  12404.820313  12474.519531  327200000\n",
              "2007-01-04  12473.160156  12510.410156  12403.860352  12480.690430  259060000\n",
              "2007-01-05  12480.049805  12480.129883  12365.410156  12398.009766  235220000\n",
              "2007-01-08  12392.009766  12445.919922  12337.370117  12423.490234  223500000\n",
              "2007-01-09  12424.769531  12466.429688  12369.169922  12416.599609  225190000"
            ]
          },
          "metadata": {
            "tags": []
          },
          "execution_count": 8
        }
      ]
    },
    {
      "cell_type": "code",
      "metadata": {
        "id": "QtNhhao-nBbd",
        "colab_type": "code",
        "colab": {
          "base_uri": "https://localhost:8080/",
          "height": 34
        },
        "outputId": "716e514c-d397-4cbe-cc24-45daeacae408"
      },
      "source": [
        "data.columns\n",
        "data.shape"
      ],
      "execution_count": 9,
      "outputs": [
        {
          "output_type": "execute_result",
          "data": {
            "text/plain": [
              "(3328, 5)"
            ]
          },
          "metadata": {
            "tags": []
          },
          "execution_count": 9
        }
      ]
    },
    {
      "cell_type": "code",
      "metadata": {
        "id": "4i5-HS6fnBbg",
        "colab_type": "code",
        "colab": {
          "base_uri": "https://localhost:8080/",
          "height": 265
        },
        "outputId": "fefa5f03-d74d-4dab-c501-6032b9023ed0"
      },
      "source": [
        "# make data and target arrays\n",
        "target_style = 'Price' # / 'Price' / 'Change' / 'ChangeP'\n",
        "window_len = 60\n",
        "useVolume = False\n",
        "y = np.zeros(data.shape[0]-window_len)\n",
        "if useVolume:\n",
        "  X = np.zeros((data.shape[0]-window_len,window_len,data.shape[1]))\n",
        "else:\n",
        "  X = np.zeros((data.shape[0]-window_len,window_len,data.shape[1]-1))\n",
        "\n",
        "\n",
        "for i in range(data.shape[0]-window_len):\n",
        "    if target_style == 'Change':\n",
        "        # target of Change for next day\n",
        "        y[i] = data['Close'][i+window_len] - data['Close'][i+window_len-1]\n",
        "    elif target_style == 'ChangeP':\n",
        "        # target of Change for next day in percentage\n",
        "        y[i] = (data['Close'][i+window_len] - data['Close'][i+window_len-1]) / data['Close'][i+window_len-1]\n",
        "    else:\n",
        "        # target of Price for next day\n",
        "        y[i] = data['Close'][i+window_len]\n",
        "        \n",
        "    if useVolume:\n",
        "      X[i,:,:] = data.iloc[i:i+window_len].values\n",
        "    else:\n",
        "      X[i,:,:] = data.iloc[i:i+window_len,:-1].values\n",
        "    \n",
        "\n",
        "plt.plot(y)\n",
        "plt.show()"
      ],
      "execution_count": 11,
      "outputs": [
        {
          "output_type": "display_data",
          "data": {
            "image/png": "[encoded data removed]",
            "text/plain": [
              "<Figure size 432x288 with 1 Axes>"
            ]
          },
          "metadata": {
            "tags": []
          }
        }
      ]
    },
    {
      "cell_type": "code",
      "metadata": {
        "id": "NbxAgNAMnBbj",
        "colab_type": "code",
        "colab": {},
        "outputId": "2fe3c487-09a4-4cbb-defd-ce2baa4f4c52"
      },
      "source": [
        "X[-1,-10:,:]\n",
        "y[-1]"
      ],
      "execution_count": 0,
      "outputs": [
        {
          "output_type": "execute_result",
          "data": {
            "text/plain": [
              "-0.03035628319018281"
            ]
          },
          "metadata": {
            "tags": []
          },
          "execution_count": 9
        }
      ]
    },
    {
      "cell_type": "code",
      "metadata": {
        "id": "XKz0GAbrnBbm",
        "colab_type": "code",
        "colab": {}
      },
      "source": [
        "# train test split\n",
        "y_train = y[:int(0.7*len(y))]\n",
        "y_valid = y[int(0.7*len(y)):int(0.85*len(y))]\n",
        "y_test = y[int(0.85*len(y)):]\n",
        "X_train = X[:int(0.7*len(X)),:,:]\n",
        "X_valid = X[int(0.7*len(X)):int(0.85*len(X)),:,:]\n",
        "X_test = X[int(0.85*len(X)):,:,:]"
      ],
      "execution_count": 0,
      "outputs": []
    },
    {
      "cell_type": "code",
      "metadata": {
        "id": "UG_nLpNQnBbp",
        "colab_type": "code",
        "colab": {
          "base_uri": "https://localhost:8080/",
          "height": 50
        },
        "outputId": "f8589acb-cdec-4887-a75b-0c540190a230"
      },
      "source": [
        "# get the max\n",
        "maxPrice = np.max(X_train[:,:,:-1])\n",
        "print('max Price: ',maxPrice)\n",
        "minPrice = np.min(X_train[:,:,:-1])\n",
        "print('min Price: ',minPrice)\n",
        "\n",
        "if useVolume:\n",
        "  maxVolume = np.max(X_train[:,:,-1])\n",
        "  print('max Volume: ',maxVolume)\n",
        "  minVolume = np.min(X_train[:,:,-1])\n",
        "  print('min Volume: ',minVolume)\n",
        "\n",
        "\n"
      ],
      "execution_count": 13,
      "outputs": [
        {
          "output_type": "stream",
          "text": [
            "max Price:  18351.359375\n",
            "min Price:  6469.950195\n"
          ],
          "name": "stdout"
        }
      ]
    },
    {
      "cell_type": "code",
      "metadata": {
        "id": "FyWVlbOFnBbu",
        "colab_type": "code",
        "colab": {
          "base_uri": "https://localhost:8080/",
          "height": 761
        },
        "outputId": "9f03fa61-0dd0-4482-b3b5-426ec2c5faea"
      },
      "source": [
        "# data scaling\n",
        "if useVolume:\n",
        "  X_train[:,:,:-1] = (X_train[:,:,:-1] - minPrice) / (maxPrice - minPrice)\n",
        "  X_train[:,:,-1] = (X_train[:,:,-1] - minVolume) / (maxVolume - minVolume)\n",
        "\n",
        "  X_valid[:,:,:-1] = (X_valid[:,:,:-1] - minPrice) / (maxPrice - minPrice)\n",
        "  X_valid[:,:,-1] = (X_valid[:,:,-1] - minVolume) / (maxVolume - minVolume)\n",
        "\n",
        "  X_test[:,:,:-1] = (X_test[:,:,:-1] - minPrice) / (maxPrice - minPrice)\n",
        "  X_test[:,:,-1] = (X_test[:,:,-1] - minVolume) / (maxVolume - minVolume)\n",
        "else:\n",
        "  X_train[:,:,:] = (X_train[:,:,:] - minPrice) / (maxPrice - minPrice)\n",
        "\n",
        "  X_valid[:,:,:] = (X_valid[:,:,:] - minPrice) / (maxPrice - minPrice)\n",
        "\n",
        "  X_test[:,:,:] = (X_test[:,:,:] - minPrice) / (maxPrice - minPrice)\n",
        "\n",
        "\n",
        "\n",
        "# target scaling\n",
        "if target_style == 'Price':\n",
        "    y_train = (y_train - minPrice) / (maxPrice - minPrice)\n",
        "    plt.plot(y_train)\n",
        "    plt.show()\n",
        "    y_valid = (y_valid - minPrice) / (maxPrice - minPrice)\n",
        "    plt.plot(y_valid)\n",
        "    plt.show()\n",
        "    y_test = (y_test - minPrice) / (maxPrice - minPrice)\n",
        "    plt.plot(y_test)\n",
        "    plt.show()\n",
        "elif target_style == 'Change':\n",
        "    maxChange = np.max(np.abs(y_train))\n",
        "    y_train = y_train / maxChange\n",
        "    plt.plot(y_train)\n",
        "    plt.show()\n",
        "    y_valid = y_valid / maxChange\n",
        "    plt.plot(y_valid)\n",
        "    plt.show()\n",
        "    y_test = y_test / maxChange\n",
        "    plt.plot(y_test)\n",
        "    plt.show()"
      ],
      "execution_count": 14,
      "outputs": [
        {
          "output_type": "display_data",
          "data": {
            "image/png": "[encoded data removed]",
            "text/plain": [
              "<Figure size 432x288 with 1 Axes>"
            ]
          },
          "metadata": {
            "tags": []
          }
        },
        {
          "output_type": "display_data",
          "data": {
            "image/png": "[encoded data removed]",
            "text/plain": [
              "<Figure size 432x288 with 1 Axes>"
            ]
          },
          "metadata": {
            "tags": []
          }
        },
        {
          "output_type": "display_data",
          "data": {
            "image/png": "[encoded data removed]",
            "text/plain": [
              "<Figure size 432x288 with 1 Axes>"
            ]
          },
          "metadata": {
            "tags": []
          }
        }
      ]
    },
    {
      "cell_type": "code",
      "metadata": {
        "id": "rtF8VVZYnBby",
        "colab_type": "code",
        "colab": {},
        "outputId": "22167ca7-94e7-4d2c-c74b-bb84ea85dbe7"
      },
      "source": [
        "\n",
        "from keras.models import Sequential\n",
        "import keras.layers as layers\n",
        "from keras.layers import Input, Dense, Dropout, LSTM, CuDNNLSTM, GRU, CuDNNGRU, Bidirectional\n",
        "from keras.optimizers import SGD, RMSprop, Adam, Adagrad\n",
        "from keras.losses import mean_squared_error\n",
        "from keras.models import load_model\n",
        "from keras import backend as K\n",
        "from keras.callbacks import EarlyStopping\n"
      ],
      "execution_count": 0,
      "outputs": [
        {
          "output_type": "stream",
          "text": [
            "Using TensorFlow backend.\n"
          ],
          "name": "stderr"
        }
      ]
    },
    {
      "cell_type": "code",
      "metadata": {
        "id": "gvj_BVH_tgIV",
        "colab_type": "code",
        "colab": {}
      },
      "source": [
        "import tensorflow as tf\n",
        "\n",
        "from tensorflow.keras import layers\n",
        "from tensorflow.keras import backend as K"
      ],
      "execution_count": 0,
      "outputs": []
    },
    {
      "cell_type": "code",
      "metadata": {
        "id": "BLC3u7j9nBb0",
        "colab_type": "code",
        "colab": {}
      },
      "source": [
        "\n",
        "# The GRU architecture\n",
        "regressorGRU = tf.keras.Sequential()\n",
        "# First GRU layer with Dropout regularisation\n",
        "regressorGRU.add(layers.GRU(units=50, return_sequences=True, input_shape=(X_train.shape[1],X_train.shape[2])))\n",
        "regressorGRU.add(layers.Dropout(0.2))\n",
        "# Second GRU layer\n",
        "regressorGRU.add(layers.GRU(units=50, return_sequences=True, input_shape=(X_train.shape[1],X_train.shape[2])))\n",
        "regressorGRU.add(layers.Dropout(0.2))\n",
        "# Third GRU layer\n",
        "regressorGRU.add(layers.GRU(units=50, return_sequences=True, input_shape=(X_train.shape[1],X_train.shape[2])))\n",
        "regressorGRU.add(layers.Dropout(0.2))\n",
        "# Fourth GRU layer\n",
        "regressorGRU.add(layers.GRU(units=50))\n",
        "regressorGRU.add(layers.Dropout(0.2))\n",
        "# The output layer\n",
        "regressorGRU.add(layers.Dense(units=1))\n"
      ],
      "execution_count": 0,
      "outputs": []
    },
    {
      "cell_type": "code",
      "metadata": {
        "id": "_Q8S8O-CnBb2",
        "colab_type": "code",
        "colab": {}
      },
      "source": [
        "\n",
        "# The LSTM architecture\n",
        "regressorLSTM = tf.keras.Sequential()\n",
        "# First LSTM layer with Dropout regularisation\n",
        "regressorLSTM.add(layers.LSTM(units=50, return_sequences=True, input_shape=(X_train.shape[1],X_train.shape[2])))\n",
        "regressorLSTM.add(layers.Dropout(0.2))\n",
        "# Second LSTM layer\n",
        "regressorLSTM.add(layers.LSTM(units=50, return_sequences=True))\n",
        "regressorLSTM.add(layers.Dropout(0.2))\n",
        "# Third LSTM layer\n",
        "regressorLSTM.add(layers.LSTM(units=50, return_sequences=True))\n",
        "regressorLSTM.add(layers.Dropout(0.2))\n",
        "# Fourth LSTM layer \n",
        "regressorLSTM.add(layers.LSTM(units=50))\n",
        "regressorLSTM.add(layers.Dropout(0.2))\n",
        "# The output layer\n",
        "regressorLSTM.add(layers.Dense(units=1))\n"
      ],
      "execution_count": 0,
      "outputs": []
    },
    {
      "cell_type": "code",
      "metadata": {
        "id": "dQVG4WhknBb4",
        "colab_type": "code",
        "colab": {}
      },
      "source": [
        "def r2_score(y_true, y_pred):\n",
        "    SS_res =  K.sum(K.square(y_true - y_pred))\n",
        "    SS_tot = K.sum(K.square(y_true - K.mean(y_true)))\n",
        "    SS_reg = K.sum(K.square(y_pred - K.mean(y_true)))\n",
        "#     return ( 1 - SS_res/(SS_tot + K.epsilon()) )\n",
        "    return ( SS_res/(SS_tot + K.epsilon()) )\n",
        "#     return ( SS_reg/(SS_tot + K.epsilon()) )"
      ],
      "execution_count": 0,
      "outputs": []
    },
    {
      "cell_type": "code",
      "metadata": {
        "id": "KydPRPp0nBb7",
        "colab_type": "code",
        "colab": {
          "base_uri": "https://localhost:8080/",
          "height": 941
        },
        "outputId": "effff878-f09a-447b-a8e2-3484db1c05b3"
      },
      "source": [
        "# regressor = regressorLSTM\n",
        "regressor = regressorGRU\n",
        "callback = tf.keras.callbacks.EarlyStopping(monitor='val_loss', patience=5, restore_best_weights=True)\n",
        "regressor.compile(optimizer='Adam', loss=r2_score, metrics=['mse',r2_score]) # optimizer='Adam'/'RMSProp'\n",
        "print(regressor.summary())\n",
        "hist = regressor.fit(X_train, y_train,epochs = 100, callbacks=[callback], validation_data=(X_valid, y_valid)) # , batch_size=32"
      ],
      "execution_count": 19,
      "outputs": [
        {
          "output_type": "stream",
          "text": [
            "Model: \"sequential\"\n",
            "_________________________________________________________________\n",
            "Layer (type)                 Output Shape              Param #   \n",
            "=================================================================\n",
            "gru (GRU)                    (None, 60, 50)            8400      \n",
            "_________________________________________________________________\n",
            "dropout (Dropout)            (None, 60, 50)            0         \n",
            "_________________________________________________________________\n",
            "gru_1 (GRU)                  (None, 60, 50)            15300     \n",
            "_________________________________________________________________\n",
            "dropout_1 (Dropout)          (None, 60, 50)            0         \n",
            "_________________________________________________________________\n",
            "gru_2 (GRU)                  (None, 60, 50)            15300     \n",
            "_________________________________________________________________\n",
            "dropout_2 (Dropout)          (None, 60, 50)            0         \n",
            "_________________________________________________________________\n",
            "gru_3 (GRU)                  (None, 50)                15300     \n",
            "_________________________________________________________________\n",
            "dropout_3 (Dropout)          (None, 50)                0         \n",
            "_________________________________________________________________\n",
            "dense (Dense)                (None, 1)                 51        \n",
            "=================================================================\n",
            "Total params: 54,351\n",
            "Trainable params: 54,351\n",
            "Non-trainable params: 0\n",
            "_________________________________________________________________\n",
            "None\n",
            "Epoch 1/100\n",
            "72/72 [==============================] - 10s 135ms/step - loss: 0.3067 - mse: 0.0175 - r2_score: 0.3067 - val_loss: 16.7147 - val_mse: 0.0084 - val_r2_score: 16.7147\n",
            "Epoch 2/100\n",
            "72/72 [==============================] - 9s 121ms/step - loss: 0.0988 - mse: 0.0055 - r2_score: 0.0988 - val_loss: 8.4792 - val_mse: 0.0048 - val_r2_score: 8.4792\n",
            "Epoch 3/100\n",
            "72/72 [==============================] - 9s 124ms/step - loss: 0.0760 - mse: 0.0043 - r2_score: 0.0760 - val_loss: 25.9399 - val_mse: 0.0105 - val_r2_score: 25.9399\n",
            "Epoch 4/100\n",
            "72/72 [==============================] - 9s 124ms/step - loss: 0.0726 - mse: 0.0040 - r2_score: 0.0726 - val_loss: 8.2573 - val_mse: 0.0046 - val_r2_score: 8.2573\n",
            "Epoch 5/100\n",
            "72/72 [==============================] - 9s 125ms/step - loss: 0.0753 - mse: 0.0041 - r2_score: 0.0753 - val_loss: 7.2924 - val_mse: 0.0040 - val_r2_score: 7.2924\n",
            "Epoch 6/100\n",
            "72/72 [==============================] - 9s 126ms/step - loss: 0.0612 - mse: 0.0033 - r2_score: 0.0612 - val_loss: 4.2466 - val_mse: 0.0029 - val_r2_score: 4.2466\n",
            "Epoch 7/100\n",
            "72/72 [==============================] - 9s 125ms/step - loss: 0.0591 - mse: 0.0033 - r2_score: 0.0591 - val_loss: 3.1871 - val_mse: 0.0024 - val_r2_score: 3.1871\n",
            "Epoch 8/100\n",
            "72/72 [==============================] - 9s 125ms/step - loss: 0.0559 - mse: 0.0031 - r2_score: 0.0559 - val_loss: 2.5553 - val_mse: 0.0020 - val_r2_score: 2.5553\n",
            "Epoch 9/100\n",
            "72/72 [==============================] - 9s 125ms/step - loss: 0.0561 - mse: 0.0031 - r2_score: 0.0561 - val_loss: 2.0297 - val_mse: 0.0014 - val_r2_score: 2.0297\n",
            "Epoch 10/100\n",
            "72/72 [==============================] - 9s 125ms/step - loss: 0.0549 - mse: 0.0030 - r2_score: 0.0549 - val_loss: 3.7136 - val_mse: 0.0027 - val_r2_score: 3.7136\n",
            "Epoch 11/100\n",
            "72/72 [==============================] - 9s 124ms/step - loss: 0.0580 - mse: 0.0032 - r2_score: 0.0580 - val_loss: 4.9829 - val_mse: 0.0030 - val_r2_score: 4.9829\n",
            "Epoch 12/100\n",
            "72/72 [==============================] - 9s 124ms/step - loss: 0.0469 - mse: 0.0026 - r2_score: 0.0469 - val_loss: 21.8603 - val_mse: 0.0086 - val_r2_score: 21.8603\n",
            "Epoch 13/100\n",
            "72/72 [==============================] - 9s 125ms/step - loss: 0.0474 - mse: 0.0027 - r2_score: 0.0474 - val_loss: 2.3329 - val_mse: 0.0019 - val_r2_score: 2.3329\n",
            "Epoch 14/100\n",
            "72/72 [==============================] - 9s 125ms/step - loss: 0.0449 - mse: 0.0025 - r2_score: 0.0449 - val_loss: 31.0689 - val_mse: 0.0122 - val_r2_score: 31.0689\n"
          ],
          "name": "stdout"
        }
      ]
    },
    {
      "cell_type": "code",
      "metadata": {
        "id": "ybGrVx4ZnBb-",
        "colab_type": "code",
        "colab": {
          "base_uri": "https://localhost:8080/",
          "height": 34
        },
        "outputId": "096a594d-a627-490a-bffa-66da25fc459c"
      },
      "source": [
        "hist.history.keys()"
      ],
      "execution_count": 25,
      "outputs": [
        {
          "output_type": "execute_result",
          "data": {
            "text/plain": [
              "dict_keys(['loss', 'mse', 'r2_score', 'val_loss', 'val_mse', 'val_r2_score'])"
            ]
          },
          "metadata": {
            "tags": []
          },
          "execution_count": 25
        }
      ]
    },
    {
      "cell_type": "code",
      "metadata": {
        "id": "a9fLE74znBcC",
        "colab_type": "code",
        "colab": {
          "base_uri": "https://localhost:8080/",
          "height": 265
        },
        "outputId": "8ee1563b-2580-4f2d-9956-081544006e3d"
      },
      "source": [
        "plt.plot(hist.history['loss'])\n",
        "plt.show()"
      ],
      "execution_count": 21,
      "outputs": [
        {
          "output_type": "display_data",
          "data": {
            "image/png": "[encoded data removed]",
            "text/plain": [
              "<Figure size 432x288 with 1 Axes>"
            ]
          },
          "metadata": {
            "tags": []
          }
        }
      ]
    },
    {
      "cell_type": "code",
      "metadata": {
        "id": "CHcyd4CEvLM9",
        "colab_type": "code",
        "colab": {
          "base_uri": "https://localhost:8080/",
          "height": 34
        },
        "outputId": "5d691eee-06df-43cc-e99c-13ed24823c38"
      },
      "source": [
        "# predict for lest point\n",
        "if useVolume:\n",
        "  lest_data = data.iloc[-window_len:].values\n",
        "  \n",
        "  lest_data[:,:-1] = (lest_data[:,:-1] - minPrice) / (maxPrice - minPrice)\n",
        "  lest_data[:,-1] = (X_train[:,-1] - minVolume) / (maxVolume - minVolume)\n",
        "else:\n",
        "  lest_data = data.iloc[-window_len:,:-1].values\n",
        "  lest_data = (lest_data - minPrice) / (maxPrice - minPrice)\n",
        "lest_data = lest_data.reshape((1,window_len,X_train.shape[2]))\n",
        "\n",
        "predicted_stock_price = regressor.predict(lest_data)\n",
        "target_style = 'Price' # / 'Price' / 'Change' / 'ChangeP'\n",
        "if target_style == 'Price':\n",
        "  predicted_stock_price = predicted_stock_price * (maxPrice - minPrice) + minPrice\n",
        "  print(\"predicted stock price for next step is: \", predicted_stock_price)\n",
        "elif target_style == 'Change':\n",
        "  predicted_stock_price = predicted_stock_price * maxChange\n",
        "  print(\"predicted stock price Change for next step is: \", predicted_stock_price)\n",
        "elif target_style == 'ChangeP':\n",
        "  print(\"predicted stock price Change percentage for next step is: \", predicted_stock_price)\n"
      ],
      "execution_count": 29,
      "outputs": [
        {
          "output_type": "stream",
          "text": [
            "predicted stock price for next step is:  [[22454.07]]\n"
          ],
          "name": "stdout"
        }
      ]
    },
    {
      "cell_type": "code",
      "metadata": {
        "scrolled": false,
        "id": "nzOET51RnBcF",
        "colab_type": "code",
        "colab": {}
      },
      "source": [
        "predicted_stock_price = regressor.predict(X_test)\n",
        "# if target_style == 'Price':\n",
        "#     predicted_stock_price = (predicted_stock_price * (maxPrice - minPrice)) + minPrice\n",
        "# predicted_stock_price"
      ],
      "execution_count": 0,
      "outputs": []
    },
    {
      "cell_type": "code",
      "metadata": {
        "id": "mAld9CgknBcH",
        "colab_type": "code",
        "colab": {
          "base_uri": "https://localhost:8080/",
          "height": 295
        },
        "outputId": "af06d5db-ce5a-43e9-f2b8-0b3222c7933d"
      },
      "source": [
        "# Visualising the test results\n",
        "plt.plot(y_test, color = 'pink', label = 'Real Stock Price')\n",
        "plt.plot(predicted_stock_price, color = 'blue', label = 'Predicted Stock Price')\n",
        "plt.title('Stock Price Prediction on test data')\n",
        "plt.xlabel('Time')\n",
        "plt.ylabel('Stock Price on test data')\n",
        "plt.legend()\n",
        "plt.show()"
      ],
      "execution_count": 23,
      "outputs": [
        {
          "output_type": "display_data",
          "data": {
            "image/png": "[encoded data removed]",
            "text/plain": [
              "<Figure size 432x288 with 1 Axes>"
            ]
          },
          "metadata": {
            "tags": []
          }
        }
      ]
    },
    {
      "cell_type": "code",
      "metadata": {
        "id": "eSrqrTDRnBcK",
        "colab_type": "code",
        "colab": {}
      },
      "source": [
        "predicted_stock_price = regressor.predict(X_valid)\n",
        "# if target_style == 'Price':\n",
        "#     predicted_stock_price = (predicted_stock_price * (maxPrice - minPrice)) + minPrice\n",
        "# predicted_stock_price"
      ],
      "execution_count": 0,
      "outputs": []
    },
    {
      "cell_type": "code",
      "metadata": {
        "id": "qgZczZuenBcN",
        "colab_type": "code",
        "colab": {},
        "outputId": "2fd815d4-795f-40f2-f923-1f7f93777a5a"
      },
      "source": [
        "# Visualising the validation results\n",
        "plt.plot(y_valid, color = 'pink', label = 'Real Stock Price')\n",
        "plt.plot(predicted_stock_price, color = 'blue', label = 'Predicted Stock Price')\n",
        "plt.title('Stock Price Prediction on validation data')\n",
        "plt.xlabel('Time')\n",
        "plt.ylabel('Stock Price')\n",
        "plt.legend()\n",
        "plt.show()"
      ],
      "execution_count": 0,
      "outputs": [
        {
          "output_type": "display_data",
          "data": {
            "image/png": "[encoded data removed]",
            "text/plain": [
              "<Figure size 432x288 with 1 Axes>"
            ]
          },
          "metadata": {
            "tags": [],
            "needs_background": "light"
          }
        }
      ]
    },
    {
      "cell_type": "code",
      "metadata": {
        "id": "RUQpE75bnBcQ",
        "colab_type": "code",
        "colab": {},
        "outputId": "3e07c947-45bc-42c0-d6bf-fe58de24018c"
      },
      "source": [
        "# r2_score(y_valid, predicted_stock_price)\n",
        "SS_res = np.sum(np.square(y_valid - predicted_stock_price))\n",
        "print('SS_res = ',SS_res)\n",
        "SS_tot = np.sum(np.square(y_valid - np.mean(y_valid)))\n",
        "print('SS_tot = ',SS_tot)\n",
        "SS_reg = np.sum(np.square(predicted_stock_price - np.mean(y_valid)))\n",
        "print('SS_reg = ',SS_reg)\n",
        "r2 = 1 - SS_res/SS_tot\n",
        "print('r2 = ',r2)\n",
        "r2 = SS_reg/SS_tot\n",
        "print('r2 = ',r2)\n",
        "mse = np.mean(np.square(y_valid - predicted_stock_price))\n",
        "print('mse = ',mse)"
      ],
      "execution_count": 0,
      "outputs": [
        {
          "output_type": "stream",
          "text": [
            "SS_res =  12.195140027178823\n",
            "SS_tot =  0.024758991365619213\n",
            "SS_reg =  0.00012904951\n",
            "r2 =  -491.55399168292524\n",
            "r2 =  0.005212228196263756\n",
            "mse =  5.079192014651738e-05\n"
          ],
          "name": "stdout"
        }
      ]
    },
    {
      "cell_type": "code",
      "metadata": {
        "id": "ow-IQvf0nBcT",
        "colab_type": "code",
        "colab": {}
      },
      "source": [
        "predicted_stock_price = regressor.predict(X_train)\n",
        "# if target_style == 'Price':\n",
        "#     predicted_stock_price = (predicted_stock_price * (maxPrice - minPrice)) + minPrice\n",
        "# predicted_stock_price"
      ],
      "execution_count": 0,
      "outputs": []
    },
    {
      "cell_type": "code",
      "metadata": {
        "id": "si2ZBP4cnBcW",
        "colab_type": "code",
        "colab": {},
        "outputId": "5c425172-172d-4003-ac2e-922b95736e31"
      },
      "source": [
        "# Visualising the train results\n",
        "plt.plot(y_train, color = 'pink', label = 'Real Stock Price')\n",
        "plt.plot(predicted_stock_price, color = 'blue', label = 'Predicted Stock Price')\n",
        "plt.title('Stock Price Prediction on train data')\n",
        "plt.xlabel('Time')\n",
        "plt.ylabel('Stock Price')\n",
        "plt.legend()\n",
        "plt.show()"
      ],
      "execution_count": 0,
      "outputs": [
        {
          "output_type": "display_data",
          "data": {
            "image/png": "[encoded data removed]",
            "text/plain": [
              "<Figure size 432x288 with 1 Axes>"
            ]
          },
          "metadata": {
            "tags": [],
            "needs_background": "light"
          }
        }
      ]
    },
    {
      "cell_type": "code",
      "metadata": {
        "id": "anMEeH32nBca",
        "colab_type": "code",
        "colab": {}
      },
      "source": [
        ""
      ],
      "execution_count": 0,
      "outputs": []
    },
    {
      "cell_type": "code",
      "metadata": {
        "id": "MzUekGrhnBce",
        "colab_type": "code",
        "colab": {}
      },
      "source": [
        ""
      ],
      "execution_count": 0,
      "outputs": []
    },
    {
      "cell_type": "code",
      "metadata": {
        "id": "jmUAKttunBcg",
        "colab_type": "code",
        "colab": {}
      },
      "source": [
        ""
      ],
      "execution_count": 0,
      "outputs": []
    },
    {
      "cell_type": "code",
      "metadata": {
        "id": "KNwbpTH6nBci",
        "colab_type": "code",
        "colab": {}
      },
      "source": [
        ""
      ],
      "execution_count": 0,
      "outputs": []
    }
  ]
}