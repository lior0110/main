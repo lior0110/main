{
  "nbformat": 4,
  "nbformat_minor": 0,
  "metadata": {
    "kernelspec": {
      "display_name": "Python 3",
      "language": "python",
      "name": "python3"
    },
    "language_info": {
      "codemirror_mode": {
        "name": "ipython",
        "version": 3
      },
      "file_extension": ".py",
      "mimetype": "text/x-python",
      "name": "python",
      "nbconvert_exporter": "python",
      "pygments_lexer": "ipython3",
      "version": "3.7.7"
    },
    "colab": {
      "name": "DJI_test.ipynb",
      "provenance": [],
      "include_colab_link": true
    }
  },
  "cells": [
    {
      "cell_type": "markdown",
      "metadata": {
        "id": "view-in-github",
        "colab_type": "text"
      },
      "source": [
        "<a href=\"https://colab.research.google.com/github/lior0110/main/blob/master/DJI_test.ipynb\" target=\"_parent\"><img src=\"https://colab.research.google.com/assets/colab-badge.svg\" alt=\"Open In Colab\"/></a>"
      ]
    },
    {
      "cell_type": "markdown",
      "metadata": {
        "id": "Kd_samnJo6Uc",
        "colab_type": "text"
      },
      "source": [
        "[![Open In Colab](https://colab.research.google.com/assets/colab-badge.svg)](https://colab.research.google.com/github/lior0110/main/blob/master/DJI_test.ipynb)"
      ]
    },
    {
      "cell_type": "code",
      "metadata": {
        "id": "H9voU75YpfVs",
        "colab_type": "code",
        "colab": {}
      },
      "source": [
        "import os \n",
        "if not os.path.exists('main'): os.system('git clone https://github.com/lior0110/main/')\n",
        "os.chdir('main')"
      ],
      "execution_count": 0,
      "outputs": []
    },
    {
      "cell_type": "code",
      "metadata": {
        "id": "mnplwysUnBbK",
        "colab_type": "code",
        "colab": {}
      },
      "source": [
        "import pandas as pd\n",
        "import numpy as np\n",
        "import matplotlib\n",
        "import matplotlib.pyplot as plt"
      ],
      "execution_count": 0,
      "outputs": []
    },
    {
      "cell_type": "code",
      "metadata": {
        "id": "LKyITYXHnBbO",
        "colab_type": "code",
        "colab": {
          "base_uri": "https://localhost:8080/",
          "height": 225
        },
        "outputId": "cf91d33a-3f66-46d1-ede9-767d9fba33cb"
      },
      "source": [
        "# read the given data\n",
        "data = pd.read_csv('DJI2.csv', index_col=0, parse_dates=True)\n",
        "data.head()"
      ],
      "execution_count": 4,
      "outputs": [
        {
          "output_type": "execute_result",
          "data": {
            "text/html": [
              "<div>\n",
              "<style scoped>\n",
              "    .dataframe tbody tr th:only-of-type {\n",
              "        vertical-align: middle;\n",
              "    }\n",
              "\n",
              "    .dataframe tbody tr th {\n",
              "        vertical-align: top;\n",
              "    }\n",
              "\n",
              "    .dataframe thead th {\n",
              "        text-align: right;\n",
              "    }\n",
              "</style>\n",
              "<table border=\"1\" class=\"dataframe\">\n",
              "  <thead>\n",
              "    <tr style=\"text-align: right;\">\n",
              "      <th></th>\n",
              "      <th>Open</th>\n",
              "      <th>High</th>\n",
              "      <th>Low</th>\n",
              "      <th>Close</th>\n",
              "      <th>Adj Close</th>\n",
              "      <th>Volume</th>\n",
              "    </tr>\n",
              "    <tr>\n",
              "      <th>Date</th>\n",
              "      <th></th>\n",
              "      <th></th>\n",
              "      <th></th>\n",
              "      <th></th>\n",
              "      <th></th>\n",
              "      <th></th>\n",
              "    </tr>\n",
              "  </thead>\n",
              "  <tbody>\n",
              "    <tr>\n",
              "      <th>2007-01-03</th>\n",
              "      <td>12459.540039</td>\n",
              "      <td>12580.349609</td>\n",
              "      <td>12404.820313</td>\n",
              "      <td>12474.519531</td>\n",
              "      <td>12474.519531</td>\n",
              "      <td>327200000</td>\n",
              "    </tr>\n",
              "    <tr>\n",
              "      <th>2007-01-04</th>\n",
              "      <td>12473.160156</td>\n",
              "      <td>12510.410156</td>\n",
              "      <td>12403.860352</td>\n",
              "      <td>12480.690430</td>\n",
              "      <td>12480.690430</td>\n",
              "      <td>259060000</td>\n",
              "    </tr>\n",
              "    <tr>\n",
              "      <th>2007-01-05</th>\n",
              "      <td>12480.049805</td>\n",
              "      <td>12480.129883</td>\n",
              "      <td>12365.410156</td>\n",
              "      <td>12398.009766</td>\n",
              "      <td>12398.009766</td>\n",
              "      <td>235220000</td>\n",
              "    </tr>\n",
              "    <tr>\n",
              "      <th>2007-01-08</th>\n",
              "      <td>12392.009766</td>\n",
              "      <td>12445.919922</td>\n",
              "      <td>12337.370117</td>\n",
              "      <td>12423.490234</td>\n",
              "      <td>12423.490234</td>\n",
              "      <td>223500000</td>\n",
              "    </tr>\n",
              "    <tr>\n",
              "      <th>2007-01-09</th>\n",
              "      <td>12424.769531</td>\n",
              "      <td>12466.429688</td>\n",
              "      <td>12369.169922</td>\n",
              "      <td>12416.599609</td>\n",
              "      <td>12416.599609</td>\n",
              "      <td>225190000</td>\n",
              "    </tr>\n",
              "  </tbody>\n",
              "</table>\n",
              "</div>"
            ],
            "text/plain": [
              "                    Open          High  ...     Adj Close     Volume\n",
              "Date                                    ...                         \n",
              "2007-01-03  12459.540039  12580.349609  ...  12474.519531  327200000\n",
              "2007-01-04  12473.160156  12510.410156  ...  12480.690430  259060000\n",
              "2007-01-05  12480.049805  12480.129883  ...  12398.009766  235220000\n",
              "2007-01-08  12392.009766  12445.919922  ...  12423.490234  223500000\n",
              "2007-01-09  12424.769531  12466.429688  ...  12416.599609  225190000\n",
              "\n",
              "[5 rows x 6 columns]"
            ]
          },
          "metadata": {
            "tags": []
          },
          "execution_count": 4
        }
      ]
    },
    {
      "cell_type": "code",
      "metadata": {
        "id": "kcqOvSYJnBbR",
        "colab_type": "code",
        "colab": {},
        "outputId": "821755a4-821e-432f-ec7b-fd3a9dc00f5e"
      },
      "source": [
        "data.info()"
      ],
      "execution_count": 0,
      "outputs": [
        {
          "output_type": "stream",
          "text": [
            "<class 'pandas.core.frame.DataFrame'>\n",
            "DatetimeIndex: 3328 entries, 2007-01-03 to 2020-03-23\n",
            "Data columns (total 6 columns):\n",
            " #   Column     Non-Null Count  Dtype  \n",
            "---  ------     --------------  -----  \n",
            " 0   Open       3328 non-null   float64\n",
            " 1   High       3328 non-null   float64\n",
            " 2   Low        3328 non-null   float64\n",
            " 3   Close      3328 non-null   float64\n",
            " 4   Adj Close  3328 non-null   float64\n",
            " 5   Volume     3328 non-null   int64  \n",
            "dtypes: float64(5), int64(1)\n",
            "memory usage: 182.0 KB\n"
          ],
          "name": "stdout"
        }
      ]
    },
    {
      "cell_type": "code",
      "metadata": {
        "id": "yHaVKqEJnBbU",
        "colab_type": "code",
        "colab": {},
        "outputId": "ab559153-d687-4a7c-969f-accadb65e583"
      },
      "source": [
        "data['Adj Close'].plot()"
      ],
      "execution_count": 0,
      "outputs": [
        {
          "output_type": "execute_result",
          "data": {
            "text/plain": [
              "<matplotlib.axes._subplots.AxesSubplot at 0x185712cdb08>"
            ]
          },
          "metadata": {
            "tags": []
          },
          "execution_count": 4
        },
        {
          "output_type": "display_data",
          "data": {
            "image/png": "[encoded data removed]",
            "text/plain": [
              "<Figure size 432x288 with 1 Axes>"
            ]
          },
          "metadata": {
            "tags": [],
            "needs_background": "light"
          }
        }
      ]
    },
    {
      "cell_type": "code",
      "metadata": {
        "id": "NuMLuE5DnBbX",
        "colab_type": "code",
        "colab": {}
      },
      "source": [
        "# see if 'Adj Close' is the same as 'Close'\n",
        "# if yes drop 'Adj Close'\n",
        "test = data['Adj Close'] == data['Close']\n",
        "if all(data['Adj Close'] == data['Close']):\n",
        "    data = data.drop(columns='Adj Close')\n",
        "\n"
      ],
      "execution_count": 0,
      "outputs": []
    },
    {
      "cell_type": "code",
      "metadata": {
        "id": "2Hr9jOQWnBba",
        "colab_type": "code",
        "colab": {},
        "outputId": "0b098ee9-c1a6-450b-ba7c-d2ec6e9a798b"
      },
      "source": [
        "data.head()"
      ],
      "execution_count": 0,
      "outputs": [
        {
          "output_type": "execute_result",
          "data": {
            "text/html": [
              "<div>\n",
              "<style scoped>\n",
              "    .dataframe tbody tr th:only-of-type {\n",
              "        vertical-align: middle;\n",
              "    }\n",
              "\n",
              "    .dataframe tbody tr th {\n",
              "        vertical-align: top;\n",
              "    }\n",
              "\n",
              "    .dataframe thead th {\n",
              "        text-align: right;\n",
              "    }\n",
              "</style>\n",
              "<table border=\"1\" class=\"dataframe\">\n",
              "  <thead>\n",
              "    <tr style=\"text-align: right;\">\n",
              "      <th></th>\n",
              "      <th>Open</th>\n",
              "      <th>High</th>\n",
              "      <th>Low</th>\n",
              "      <th>Close</th>\n",
              "      <th>Volume</th>\n",
              "    </tr>\n",
              "    <tr>\n",
              "      <th>Date</th>\n",
              "      <th></th>\n",
              "      <th></th>\n",
              "      <th></th>\n",
              "      <th></th>\n",
              "      <th></th>\n",
              "    </tr>\n",
              "  </thead>\n",
              "  <tbody>\n",
              "    <tr>\n",
              "      <th>2007-01-03</th>\n",
              "      <td>12459.540039</td>\n",
              "      <td>12580.349609</td>\n",
              "      <td>12404.820313</td>\n",
              "      <td>12474.519531</td>\n",
              "      <td>327200000</td>\n",
              "    </tr>\n",
              "    <tr>\n",
              "      <th>2007-01-04</th>\n",
              "      <td>12473.160156</td>\n",
              "      <td>12510.410156</td>\n",
              "      <td>12403.860352</td>\n",
              "      <td>12480.690430</td>\n",
              "      <td>259060000</td>\n",
              "    </tr>\n",
              "    <tr>\n",
              "      <th>2007-01-05</th>\n",
              "      <td>12480.049805</td>\n",
              "      <td>12480.129883</td>\n",
              "      <td>12365.410156</td>\n",
              "      <td>12398.009766</td>\n",
              "      <td>235220000</td>\n",
              "    </tr>\n",
              "    <tr>\n",
              "      <th>2007-01-08</th>\n",
              "      <td>12392.009766</td>\n",
              "      <td>12445.919922</td>\n",
              "      <td>12337.370117</td>\n",
              "      <td>12423.490234</td>\n",
              "      <td>223500000</td>\n",
              "    </tr>\n",
              "    <tr>\n",
              "      <th>2007-01-09</th>\n",
              "      <td>12424.769531</td>\n",
              "      <td>12466.429688</td>\n",
              "      <td>12369.169922</td>\n",
              "      <td>12416.599609</td>\n",
              "      <td>225190000</td>\n",
              "    </tr>\n",
              "  </tbody>\n",
              "</table>\n",
              "</div>"
            ],
            "text/plain": [
              "                    Open          High           Low         Close     Volume\n",
              "Date                                                                         \n",
              "2007-01-03  12459.540039  12580.349609  12404.820313  12474.519531  327200000\n",
              "2007-01-04  12473.160156  12510.410156  12403.860352  12480.690430  259060000\n",
              "2007-01-05  12480.049805  12480.129883  12365.410156  12398.009766  235220000\n",
              "2007-01-08  12392.009766  12445.919922  12337.370117  12423.490234  223500000\n",
              "2007-01-09  12424.769531  12466.429688  12369.169922  12416.599609  225190000"
            ]
          },
          "metadata": {
            "tags": []
          },
          "execution_count": 6
        }
      ]
    },
    {
      "cell_type": "code",
      "metadata": {
        "id": "QtNhhao-nBbd",
        "colab_type": "code",
        "colab": {},
        "outputId": "b71905b1-ace8-4f20-cbc3-507788165a42"
      },
      "source": [
        "data.columns\n",
        "data.shape"
      ],
      "execution_count": 0,
      "outputs": [
        {
          "output_type": "execute_result",
          "data": {
            "text/plain": [
              "(3328, 5)"
            ]
          },
          "metadata": {
            "tags": []
          },
          "execution_count": 7
        }
      ]
    },
    {
      "cell_type": "code",
      "metadata": {
        "id": "4i5-HS6fnBbg",
        "colab_type": "code",
        "colab": {},
        "outputId": "00f21569-abff-40c7-935d-1549ecf49268"
      },
      "source": [
        "# make data and target arrays\n",
        "target_style = 'ChangeP' # / 'Price' / 'Change' / 'ChangeP'\n",
        "window_len = 60\n",
        "y = np.zeros(data.shape[0]-window_len)\n",
        "X = np.zeros((data.shape[0]-window_len,window_len,data.shape[1]))\n",
        "for i in range(data.shape[0]-window_len):\n",
        "    if target_style == 'Change':\n",
        "        # target of Change for next day\n",
        "        y[i] = data['Close'][i+window_len] - data['Close'][i+window_len-1]\n",
        "    elif target_style == 'ChangeP':\n",
        "        # target of Change for next day in percentage\n",
        "        y[i] = (data['Close'][i+window_len] - data['Close'][i+window_len-1]) / data['Close'][i+window_len-1]\n",
        "    else:\n",
        "        # target of Price for next day\n",
        "        y[i] = data['Close'][i+window_len]\n",
        "        \n",
        "    X[i,:,:] = data.iloc[i:i+window_len].values\n",
        "    \n",
        "\n",
        "plt.plot(y)\n",
        "plt.show()"
      ],
      "execution_count": 0,
      "outputs": [
        {
          "output_type": "display_data",
          "data": {
            "image/png": "[encoded data removed]",
            "text/plain": [
              "<Figure size 432x288 with 1 Axes>"
            ]
          },
          "metadata": {
            "tags": [],
            "needs_background": "light"
          }
        }
      ]
    },
    {
      "cell_type": "code",
      "metadata": {
        "id": "NbxAgNAMnBbj",
        "colab_type": "code",
        "colab": {},
        "outputId": "2fe3c487-09a4-4cbb-defd-ce2baa4f4c52"
      },
      "source": [
        "X[-1,-10:,:]\n",
        "y[-1]"
      ],
      "execution_count": 0,
      "outputs": [
        {
          "output_type": "execute_result",
          "data": {
            "text/plain": [
              "-0.03035628319018281"
            ]
          },
          "metadata": {
            "tags": []
          },
          "execution_count": 9
        }
      ]
    },
    {
      "cell_type": "code",
      "metadata": {
        "id": "XKz0GAbrnBbm",
        "colab_type": "code",
        "colab": {}
      },
      "source": [
        "# train test split\n",
        "y_train = y[:int(0.7*len(y))]\n",
        "y_valid = y[int(0.7*len(y)):int(0.85*len(y))]\n",
        "y_test = y[int(0.85*len(y)):]\n",
        "X_train = X[:int(0.7*len(X)),:,:]\n",
        "X_valid = X[int(0.7*len(X)):int(0.85*len(X)),:,:]\n",
        "X_test = X[int(0.85*len(X)):,:,:]"
      ],
      "execution_count": 0,
      "outputs": []
    },
    {
      "cell_type": "code",
      "metadata": {
        "id": "UG_nLpNQnBbp",
        "colab_type": "code",
        "colab": {},
        "outputId": "62ded53c-8354-4dcd-a81a-fba3bc9a6bd1"
      },
      "source": [
        "# get the max\n",
        "maxPrice = np.max(X_train[:,:,:-1])\n",
        "print('max Price: ',maxPrice)\n",
        "minPrice = np.min(X_train[:,:,:-1])\n",
        "print('min Price: ',minPrice)\n",
        "maxVolume = np.max(X_train[:,:,-1])\n",
        "print('max Volume: ',maxVolume)\n",
        "minVolume = np.min(X_train[:,:,-1])\n",
        "print('min Volume: ',minVolume)\n"
      ],
      "execution_count": 0,
      "outputs": [
        {
          "output_type": "stream",
          "text": [
            "max Price:  18351.359375\n",
            "min Price:  6469.950195\n",
            "max Volume:  674920000.0\n",
            "min Volume:  8410000.0\n"
          ],
          "name": "stdout"
        }
      ]
    },
    {
      "cell_type": "code",
      "metadata": {
        "id": "FyWVlbOFnBbu",
        "colab_type": "code",
        "colab": {}
      },
      "source": [
        "# data scaling\n",
        "X_train[:,:,:-1] = (X_train[:,:,:-1] - minPrice) / (maxPrice - minPrice)\n",
        "X_train[:,:,-1] = (X_train[:,:,-1] - minVolume) / (maxVolume - minVolume)\n",
        "\n",
        "X_valid[:,:,:-1] = (X_valid[:,:,:-1] - minPrice) / (maxPrice - minPrice)\n",
        "X_valid[:,:,-1] = (X_valid[:,:,-1] - minVolume) / (maxVolume - minVolume)\n",
        "\n",
        "X_test[:,:,:-1] = (X_test[:,:,:-1] - minPrice) / (maxPrice - minPrice)\n",
        "X_test[:,:,-1] = (X_test[:,:,-1] - minVolume) / (maxVolume - minVolume)\n",
        "\n",
        "if target_style == 'Price':\n",
        "    y_train = (y_train - minPrice) / (maxPrice - minPrice)\n",
        "    plt.plot(y_train)\n",
        "    plt.show()\n",
        "    y_valid = (y_valid - minPrice) / (maxPrice - minPrice)\n",
        "    plt.plot(y_valid)\n",
        "    plt.show()\n",
        "    y_test = (y_test - minPrice) / (maxPrice - minPrice)\n",
        "    plt.plot(y_test)\n",
        "    plt.show()\n",
        "elif target_style == 'Change':\n",
        "    maxChange = np.max(np.abs(y_train))\n",
        "    y_train = y_train / maxChange\n",
        "    plt.plot(y_train)\n",
        "    plt.show()\n",
        "    y_valid = y_valid / maxChange\n",
        "    plt.plot(y_valid)\n",
        "    plt.show()\n",
        "    y_test = y_test / maxChange\n",
        "    plt.plot(y_test)\n",
        "    plt.show()"
      ],
      "execution_count": 0,
      "outputs": []
    },
    {
      "cell_type": "code",
      "metadata": {
        "id": "rtF8VVZYnBby",
        "colab_type": "code",
        "colab": {},
        "outputId": "22167ca7-94e7-4d2c-c74b-bb84ea85dbe7"
      },
      "source": [
        "\n",
        "from keras.models import Sequential\n",
        "import keras.layers as layers\n",
        "from keras.layers import Input, Dense, Dropout, LSTM, CuDNNLSTM, GRU, CuDNNGRU, Bidirectional\n",
        "from keras.optimizers import SGD, RMSprop, Adam, Adagrad\n",
        "from keras.losses import mean_squared_error\n",
        "from keras.models import load_model\n",
        "from keras import backend as K\n",
        "from keras.callbacks import EarlyStopping\n"
      ],
      "execution_count": 0,
      "outputs": [
        {
          "output_type": "stream",
          "text": [
            "Using TensorFlow backend.\n"
          ],
          "name": "stderr"
        }
      ]
    },
    {
      "cell_type": "code",
      "metadata": {
        "id": "BLC3u7j9nBb0",
        "colab_type": "code",
        "colab": {}
      },
      "source": [
        "\n",
        "# The GRU architecture\n",
        "regressorGRU = Sequential()\n",
        "# First GRU layer with Dropout regularisation\n",
        "regressorGRU.add(GRU(units=50, return_sequences=True, input_shape=(X_train.shape[1],X_train.shape[2])))\n",
        "regressorGRU.add(Dropout(0.2))\n",
        "# Second GRU layer\n",
        "regressorGRU.add(GRU(units=50, return_sequences=True, input_shape=(X_train.shape[1],X_train.shape[2])))\n",
        "regressorGRU.add(Dropout(0.2))\n",
        "# Third GRU layer\n",
        "regressorGRU.add(GRU(units=50, return_sequences=True, input_shape=(X_train.shape[1],X_train.shape[2])))\n",
        "regressorGRU.add(Dropout(0.2))\n",
        "# Fourth GRU layer\n",
        "regressorGRU.add(GRU(units=50))\n",
        "regressorGRU.add(Dropout(0.2))\n",
        "# The output layer\n",
        "regressorGRU.add(Dense(units=1))\n"
      ],
      "execution_count": 0,
      "outputs": []
    },
    {
      "cell_type": "code",
      "metadata": {
        "id": "_Q8S8O-CnBb2",
        "colab_type": "code",
        "colab": {}
      },
      "source": [
        "\n",
        "# The LSTM architecture\n",
        "regressorLSTM = Sequential()\n",
        "# First LSTM layer with Dropout regularisation\n",
        "regressorLSTM.add(LSTM(units=50, return_sequences=True, input_shape=(X_train.shape[1],X_train.shape[2])))\n",
        "regressorLSTM.add(Dropout(0.2))\n",
        "# Second LSTM layer\n",
        "regressorLSTM.add(LSTM(units=50, return_sequences=True))\n",
        "regressorLSTM.add(Dropout(0.2))\n",
        "# Third LSTM layer\n",
        "regressorLSTM.add(LSTM(units=50, return_sequences=True))\n",
        "regressorLSTM.add(Dropout(0.2))\n",
        "# Fourth LSTM layer \n",
        "regressorLSTM.add(LSTM(units=50))\n",
        "regressorLSTM.add(Dropout(0.2))\n",
        "# The output layer\n",
        "regressorLSTM.add(Dense(units=1))\n"
      ],
      "execution_count": 0,
      "outputs": []
    },
    {
      "cell_type": "code",
      "metadata": {
        "id": "dQVG4WhknBb4",
        "colab_type": "code",
        "colab": {}
      },
      "source": [
        "def r2_score(y_true, y_pred):\n",
        "    SS_res =  K.sum(K.square(y_true - y_pred))\n",
        "    SS_tot = K.sum(K.square(y_true - K.mean(y_true)))\n",
        "    SS_reg = K.sum(K.square(y_pred - K.mean(y_true)))\n",
        "#     return ( 1 - SS_res/(SS_tot + K.epsilon()) )\n",
        "    return ( SS_res/(SS_tot + K.epsilon()) )\n",
        "#     return ( SS_reg/(SS_tot + K.epsilon()) )"
      ],
      "execution_count": 0,
      "outputs": []
    },
    {
      "cell_type": "code",
      "metadata": {
        "id": "KydPRPp0nBb7",
        "colab_type": "code",
        "colab": {},
        "outputId": "d05e7187-dfc3-4d2f-a6cc-a0cfeab5644c"
      },
      "source": [
        "# regressor = regressorLSTM\n",
        "regressor = regressorGRU\n",
        "callback = EarlyStopping(monitor='val_loss', patience=5, restore_best_weights=True)\n",
        "regressor.compile(optimizer='Adam', loss=r2_score, metrics=['mse',r2_score]) # optimizer='Adam'/'RMSProp'\n",
        "print(regressor.summary())\n",
        "hist = regressor.fit(X_train, y_train,epochs = 100, callbacks=[callback], validation_data=(X_valid, y_valid)) # , batch_size=32"
      ],
      "execution_count": 0,
      "outputs": [
        {
          "output_type": "stream",
          "text": [
            "Model: \"sequential_1\"\n",
            "_________________________________________________________________\n",
            "Layer (type)                 Output Shape              Param #   \n",
            "=================================================================\n",
            "gru_1 (GRU)                  (None, 60, 50)            8400      \n",
            "_________________________________________________________________\n",
            "dropout_1 (Dropout)          (None, 60, 50)            0         \n",
            "_________________________________________________________________\n",
            "gru_2 (GRU)                  (None, 60, 50)            15150     \n",
            "_________________________________________________________________\n",
            "dropout_2 (Dropout)          (None, 60, 50)            0         \n",
            "_________________________________________________________________\n",
            "gru_3 (GRU)                  (None, 60, 50)            15150     \n",
            "_________________________________________________________________\n",
            "dropout_3 (Dropout)          (None, 60, 50)            0         \n",
            "_________________________________________________________________\n",
            "gru_4 (GRU)                  (None, 50)                15150     \n",
            "_________________________________________________________________\n",
            "dropout_4 (Dropout)          (None, 50)                0         \n",
            "_________________________________________________________________\n",
            "dense_1 (Dense)              (None, 1)                 51        \n",
            "=================================================================\n",
            "Total params: 53,901\n",
            "Trainable params: 53,901\n",
            "Non-trainable params: 0\n",
            "_________________________________________________________________\n",
            "None\n",
            "Train on 2287 samples, validate on 490 samples\n",
            "Epoch 1/100\n",
            "2287/2287 [==============================] - 27s 12ms/step - loss: 6.0853 - mse: 0.0010 - r2_score: 6.0642 - val_loss: 1.5725 - val_mse: 6.5645e-05 - val_r2_score: 1.5553\n",
            "Epoch 2/100\n",
            "2287/2287 [==============================] - 23s 10ms/step - loss: 1.6720 - mse: 2.2557e-04 - r2_score: 1.6685 - val_loss: 1.1179 - val_mse: 5.3815e-05 - val_r2_score: 1.1127\n",
            "Epoch 3/100\n",
            "2287/2287 [==============================] - 25s 11ms/step - loss: 1.4728 - mse: 2.0893e-04 - r2_score: 1.4731 - val_loss: 1.0305 - val_mse: 5.1015e-05 - val_r2_score: 1.0292\n",
            "Epoch 4/100\n",
            "2287/2287 [==============================] - 24s 11ms/step - loss: 1.3993 - mse: 1.9870e-04 - r2_score: 1.4190 - val_loss: 1.4088 - val_mse: 5.8330e-05 - val_r2_score: 1.3926\n",
            "Epoch 5/100\n",
            "2287/2287 [==============================] - 24s 10ms/step - loss: 1.3884 - mse: 1.9629e-04 - r2_score: 1.3857 - val_loss: 1.0368 - val_mse: 5.0811e-05 - val_r2_score: 1.0355\n",
            "Epoch 6/100\n",
            "2287/2287 [==============================] - 24s 10ms/step - loss: 1.3047 - mse: 1.8849e-04 - r2_score: 1.3038 - val_loss: 1.4267 - val_mse: 5.8400e-05 - val_r2_score: 1.4106\n",
            "Epoch 7/100\n",
            "2287/2287 [==============================] - 24s 10ms/step - loss: 1.2658 - mse: 1.8174e-04 - r2_score: 1.2645 - val_loss: 1.1063 - val_mse: 5.3133e-05 - val_r2_score: 1.1018\n",
            "Epoch 8/100\n",
            "2287/2287 [==============================] - 24s 10ms/step - loss: 1.2315 - mse: 1.7957e-04 - r2_score: 1.2332 - val_loss: 3.5161 - val_mse: 1.0435e-04 - val_r2_score: 3.4258\n"
          ],
          "name": "stdout"
        }
      ]
    },
    {
      "cell_type": "code",
      "metadata": {
        "id": "ybGrVx4ZnBb-",
        "colab_type": "code",
        "colab": {},
        "outputId": "88ccee28-d651-448d-94ca-9157bf920a6c"
      },
      "source": [
        "hist.history.keys()"
      ],
      "execution_count": 0,
      "outputs": [
        {
          "output_type": "execute_result",
          "data": {
            "text/plain": [
              "dict_keys(['val_loss', 'val_mse', 'val_r2_score', 'loss', 'mse', 'r2_score'])"
            ]
          },
          "metadata": {
            "tags": []
          },
          "execution_count": 18
        }
      ]
    },
    {
      "cell_type": "code",
      "metadata": {
        "id": "a9fLE74znBcC",
        "colab_type": "code",
        "colab": {},
        "outputId": "a80dee3e-eb1c-41a2-e44e-51221e51f65b"
      },
      "source": [
        "plt.plot(hist.history['loss'])\n",
        "plt.show()"
      ],
      "execution_count": 0,
      "outputs": [
        {
          "output_type": "display_data",
          "data": {
            "image/png": "[encoded data removed]",
            "text/plain": [
              "<Figure size 432x288 with 1 Axes>"
            ]
          },
          "metadata": {
            "tags": [],
            "needs_background": "light"
          }
        }
      ]
    },
    {
      "cell_type": "code",
      "metadata": {
        "scrolled": false,
        "id": "nzOET51RnBcF",
        "colab_type": "code",
        "colab": {}
      },
      "source": [
        "predicted_stock_price = regressor.predict(X_test)\n",
        "# if target_style == 'Price':\n",
        "#     predicted_stock_price = (predicted_stock_price * (maxPrice - minPrice)) + minPrice\n",
        "# predicted_stock_price"
      ],
      "execution_count": 0,
      "outputs": []
    },
    {
      "cell_type": "code",
      "metadata": {
        "id": "mAld9CgknBcH",
        "colab_type": "code",
        "colab": {},
        "outputId": "f1ed4dca-4212-4dd6-b5c3-cf52e30f1059"
      },
      "source": [
        "# Visualising the test results\n",
        "plt.plot(y_test, color = 'pink', label = 'Real Stock Price')\n",
        "plt.plot(predicted_stock_price, color = 'blue', label = 'Predicted Stock Price')\n",
        "plt.title('Stock Price Prediction on test data')\n",
        "plt.xlabel('Time')\n",
        "plt.ylabel('Stock Price on test data')\n",
        "plt.legend()\n",
        "plt.show()"
      ],
      "execution_count": 0,
      "outputs": [
        {
          "output_type": "display_data",
          "data": {
            "image/png": "[encoded data removed]",
            "text/plain": [
              "<Figure size 432x288 with 1 Axes>"
            ]
          },
          "metadata": {
            "tags": [],
            "needs_background": "light"
          }
        }
      ]
    },
    {
      "cell_type": "code",
      "metadata": {
        "id": "eSrqrTDRnBcK",
        "colab_type": "code",
        "colab": {}
      },
      "source": [
        "predicted_stock_price = regressor.predict(X_valid)\n",
        "# if target_style == 'Price':\n",
        "#     predicted_stock_price = (predicted_stock_price * (maxPrice - minPrice)) + minPrice\n",
        "# predicted_stock_price"
      ],
      "execution_count": 0,
      "outputs": []
    },
    {
      "cell_type": "code",
      "metadata": {
        "id": "qgZczZuenBcN",
        "colab_type": "code",
        "colab": {},
        "outputId": "2fd815d4-795f-40f2-f923-1f7f93777a5a"
      },
      "source": [
        "# Visualising the validation results\n",
        "plt.plot(y_valid, color = 'pink', label = 'Real Stock Price')\n",
        "plt.plot(predicted_stock_price, color = 'blue', label = 'Predicted Stock Price')\n",
        "plt.title('Stock Price Prediction on validation data')\n",
        "plt.xlabel('Time')\n",
        "plt.ylabel('Stock Price')\n",
        "plt.legend()\n",
        "plt.show()"
      ],
      "execution_count": 0,
      "outputs": [
        {
          "output_type": "display_data",
          "data": {
            "image/png": "[encoded data removed]",
            "text/plain": [
              "<Figure size 432x288 with 1 Axes>"
            ]
          },
          "metadata": {
            "tags": [],
            "needs_background": "light"
          }
        }
      ]
    },
    {
      "cell_type": "code",
      "metadata": {
        "id": "RUQpE75bnBcQ",
        "colab_type": "code",
        "colab": {},
        "outputId": "3e07c947-45bc-42c0-d6bf-fe58de24018c"
      },
      "source": [
        "# r2_score(y_valid, predicted_stock_price)\n",
        "SS_res = np.sum(np.square(y_valid - predicted_stock_price))\n",
        "print('SS_res = ',SS_res)\n",
        "SS_tot = np.sum(np.square(y_valid - np.mean(y_valid)))\n",
        "print('SS_tot = ',SS_tot)\n",
        "SS_reg = np.sum(np.square(predicted_stock_price - np.mean(y_valid)))\n",
        "print('SS_reg = ',SS_reg)\n",
        "r2 = 1 - SS_res/SS_tot\n",
        "print('r2 = ',r2)\n",
        "r2 = SS_reg/SS_tot\n",
        "print('r2 = ',r2)\n",
        "mse = np.mean(np.square(y_valid - predicted_stock_price))\n",
        "print('mse = ',mse)"
      ],
      "execution_count": 0,
      "outputs": [
        {
          "output_type": "stream",
          "text": [
            "SS_res =  12.195140027178823\n",
            "SS_tot =  0.024758991365619213\n",
            "SS_reg =  0.00012904951\n",
            "r2 =  -491.55399168292524\n",
            "r2 =  0.005212228196263756\n",
            "mse =  5.079192014651738e-05\n"
          ],
          "name": "stdout"
        }
      ]
    },
    {
      "cell_type": "code",
      "metadata": {
        "id": "ow-IQvf0nBcT",
        "colab_type": "code",
        "colab": {}
      },
      "source": [
        "predicted_stock_price = regressor.predict(X_train)\n",
        "# if target_style == 'Price':\n",
        "#     predicted_stock_price = (predicted_stock_price * (maxPrice - minPrice)) + minPrice\n",
        "# predicted_stock_price"
      ],
      "execution_count": 0,
      "outputs": []
    },
    {
      "cell_type": "code",
      "metadata": {
        "id": "si2ZBP4cnBcW",
        "colab_type": "code",
        "colab": {},
        "outputId": "5c425172-172d-4003-ac2e-922b95736e31"
      },
      "source": [
        "# Visualising the train results\n",
        "plt.plot(y_train, color = 'pink', label = 'Real Stock Price')\n",
        "plt.plot(predicted_stock_price, color = 'blue', label = 'Predicted Stock Price')\n",
        "plt.title('Stock Price Prediction on train data')\n",
        "plt.xlabel('Time')\n",
        "plt.ylabel('Stock Price')\n",
        "plt.legend()\n",
        "plt.show()"
      ],
      "execution_count": 0,
      "outputs": [
        {
          "output_type": "display_data",
          "data": {
            "image/png": "[encoded data removed]",
            "text/plain": [
              "<Figure size 432x288 with 1 Axes>"
            ]
          },
          "metadata": {
            "tags": [],
            "needs_background": "light"
          }
        }
      ]
    },
    {
      "cell_type": "code",
      "metadata": {
        "id": "anMEeH32nBca",
        "colab_type": "code",
        "colab": {}
      },
      "source": [
        ""
      ],
      "execution_count": 0,
      "outputs": []
    },
    {
      "cell_type": "code",
      "metadata": {
        "id": "MzUekGrhnBce",
        "colab_type": "code",
        "colab": {}
      },
      "source": [
        ""
      ],
      "execution_count": 0,
      "outputs": []
    },
    {
      "cell_type": "code",
      "metadata": {
        "id": "jmUAKttunBcg",
        "colab_type": "code",
        "colab": {}
      },
      "source": [
        ""
      ],
      "execution_count": 0,
      "outputs": []
    },
    {
      "cell_type": "code",
      "metadata": {
        "id": "KNwbpTH6nBci",
        "colab_type": "code",
        "colab": {}
      },
      "source": [
        ""
      ],
      "execution_count": 0,
      "outputs": []
    }
  ]
}