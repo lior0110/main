{
  "nbformat": 4,
  "nbformat_minor": 0,
  "metadata": {
    "kernelspec": {
      "display_name": "Python 3",
      "language": "python",
      "name": "python3"
    },
    "language_info": {
      "codemirror_mode": {
        "name": "ipython",
        "version": 3
      },
      "file_extension": ".py",
      "mimetype": "text/x-python",
      "name": "python",
      "nbconvert_exporter": "python",
      "pygments_lexer": "ipython3",
      "version": "3.7.7"
    },
    "colab": {
      "name": "DJI_rnn1.ipynb",
      "provenance": []
    }
  },
  "cells": [
    {
      "cell_type": "markdown",
      "metadata": {
        "id": "Kd_samnJo6Uc",
        "colab_type": "text"
      },
      "source": [
        "[![Open In Colab](https://colab.research.google.com/assets/colab-badge.svg)](https://colab.research.google.com/github/lior0110/main/blob/master/DJI_rnn1.ipynb)"
      ]
    },
    {
      "cell_type": "code",
      "metadata": {
        "id": "H9voU75YpfVs",
        "colab_type": "code",
        "colab": {}
      },
      "source": [
        "import os \n",
        "if not os.path.exists('main'): os.system('git clone https://github.com/lior0110/main/')\n",
        "os.chdir('main')"
      ],
      "execution_count": 0,
      "outputs": []
    },
    {
      "cell_type": "code",
      "metadata": {
        "id": "mnplwysUnBbK",
        "colab_type": "code",
        "colab": {}
      },
      "source": [
        "import pandas as pd\n",
        "import numpy as np\n",
        "import matplotlib\n",
        "import matplotlib.pyplot as plt"
      ],
      "execution_count": 0,
      "outputs": []
    },
    {
      "cell_type": "code",
      "metadata": {
        "id": "LKyITYXHnBbO",
        "colab_type": "code",
        "colab": {
          "base_uri": "https://localhost:8080/",
          "height": 225
        },
        "outputId": "9f1c1014-ef3a-4695-ed25-33ef163e0f10"
      },
      "source": [
        "# read the given data\n",
        "data = pd.read_csv('DJI2.csv', index_col=0, parse_dates=True)\n",
        "data.head()"
      ],
      "execution_count": 3,
      "outputs": [
        {
          "output_type": "execute_result",
          "data": {
            "text/html": [
              "<div>\n",
              "<style scoped>\n",
              "    .dataframe tbody tr th:only-of-type {\n",
              "        vertical-align: middle;\n",
              "    }\n",
              "\n",
              "    .dataframe tbody tr th {\n",
              "        vertical-align: top;\n",
              "    }\n",
              "\n",
              "    .dataframe thead th {\n",
              "        text-align: right;\n",
              "    }\n",
              "</style>\n",
              "<table border=\"1\" class=\"dataframe\">\n",
              "  <thead>\n",
              "    <tr style=\"text-align: right;\">\n",
              "      <th></th>\n",
              "      <th>Open</th>\n",
              "      <th>High</th>\n",
              "      <th>Low</th>\n",
              "      <th>Close</th>\n",
              "      <th>Adj Close</th>\n",
              "      <th>Volume</th>\n",
              "    </tr>\n",
              "    <tr>\n",
              "      <th>Date</th>\n",
              "      <th></th>\n",
              "      <th></th>\n",
              "      <th></th>\n",
              "      <th></th>\n",
              "      <th></th>\n",
              "      <th></th>\n",
              "    </tr>\n",
              "  </thead>\n",
              "  <tbody>\n",
              "    <tr>\n",
              "      <th>2007-01-03</th>\n",
              "      <td>12459.540039</td>\n",
              "      <td>12580.349609</td>\n",
              "      <td>12404.820313</td>\n",
              "      <td>12474.519531</td>\n",
              "      <td>12474.519531</td>\n",
              "      <td>327200000</td>\n",
              "    </tr>\n",
              "    <tr>\n",
              "      <th>2007-01-04</th>\n",
              "      <td>12473.160156</td>\n",
              "      <td>12510.410156</td>\n",
              "      <td>12403.860352</td>\n",
              "      <td>12480.690430</td>\n",
              "      <td>12480.690430</td>\n",
              "      <td>259060000</td>\n",
              "    </tr>\n",
              "    <tr>\n",
              "      <th>2007-01-05</th>\n",
              "      <td>12480.049805</td>\n",
              "      <td>12480.129883</td>\n",
              "      <td>12365.410156</td>\n",
              "      <td>12398.009766</td>\n",
              "      <td>12398.009766</td>\n",
              "      <td>235220000</td>\n",
              "    </tr>\n",
              "    <tr>\n",
              "      <th>2007-01-08</th>\n",
              "      <td>12392.009766</td>\n",
              "      <td>12445.919922</td>\n",
              "      <td>12337.370117</td>\n",
              "      <td>12423.490234</td>\n",
              "      <td>12423.490234</td>\n",
              "      <td>223500000</td>\n",
              "    </tr>\n",
              "    <tr>\n",
              "      <th>2007-01-09</th>\n",
              "      <td>12424.769531</td>\n",
              "      <td>12466.429688</td>\n",
              "      <td>12369.169922</td>\n",
              "      <td>12416.599609</td>\n",
              "      <td>12416.599609</td>\n",
              "      <td>225190000</td>\n",
              "    </tr>\n",
              "  </tbody>\n",
              "</table>\n",
              "</div>"
            ],
            "text/plain": [
              "                    Open          High  ...     Adj Close     Volume\n",
              "Date                                    ...                         \n",
              "2007-01-03  12459.540039  12580.349609  ...  12474.519531  327200000\n",
              "2007-01-04  12473.160156  12510.410156  ...  12480.690430  259060000\n",
              "2007-01-05  12480.049805  12480.129883  ...  12398.009766  235220000\n",
              "2007-01-08  12392.009766  12445.919922  ...  12423.490234  223500000\n",
              "2007-01-09  12424.769531  12466.429688  ...  12416.599609  225190000\n",
              "\n",
              "[5 rows x 6 columns]"
            ]
          },
          "metadata": {
            "tags": []
          },
          "execution_count": 3
        }
      ]
    },
    {
      "cell_type": "code",
      "metadata": {
        "id": "kcqOvSYJnBbR",
        "colab_type": "code",
        "colab": {
          "base_uri": "https://localhost:8080/",
          "height": 235
        },
        "outputId": "e67e0da9-3c48-49fa-ffc4-3a6cb8298c7a"
      },
      "source": [
        "data.info()"
      ],
      "execution_count": 4,
      "outputs": [
        {
          "output_type": "stream",
          "text": [
            "<class 'pandas.core.frame.DataFrame'>\n",
            "DatetimeIndex: 3328 entries, 2007-01-03 to 2020-03-23\n",
            "Data columns (total 6 columns):\n",
            " #   Column     Non-Null Count  Dtype  \n",
            "---  ------     --------------  -----  \n",
            " 0   Open       3328 non-null   float64\n",
            " 1   High       3328 non-null   float64\n",
            " 2   Low        3328 non-null   float64\n",
            " 3   Close      3328 non-null   float64\n",
            " 4   Adj Close  3328 non-null   float64\n",
            " 5   Volume     3328 non-null   int64  \n",
            "dtypes: float64(5), int64(1)\n",
            "memory usage: 182.0 KB\n"
          ],
          "name": "stdout"
        }
      ]
    },
    {
      "cell_type": "code",
      "metadata": {
        "id": "yHaVKqEJnBbU",
        "colab_type": "code",
        "colab": {
          "base_uri": "https://localhost:8080/",
          "height": 286
        },
        "outputId": "b0eab801-cbc0-4963-b845-9a9278735439"
      },
      "source": [
        "data['Adj Close'].plot()"
      ],
      "execution_count": 5,
      "outputs": [
        {
          "output_type": "execute_result",
          "data": {
            "text/plain": [
              "<matplotlib.axes._subplots.AxesSubplot at 0x7fe8cd8f2a90>"
            ]
          },
          "metadata": {
            "tags": []
          },
          "execution_count": 5
        },
        {
          "output_type": "display_data",
          "data": {
            "image/png": "[encoded data removed]",
            "text/plain": [
              "<Figure size 432x288 with 1 Axes>"
            ]
          },
          "metadata": {
            "tags": []
          }
        }
      ]
    },
    {
      "cell_type": "code",
      "metadata": {
        "id": "NuMLuE5DnBbX",
        "colab_type": "code",
        "colab": {}
      },
      "source": [
        "# see if 'Adj Close' is the same as 'Close'\n",
        "# if yes drop 'Adj Close'\n",
        "test = data['Adj Close'] == data['Close']\n",
        "if all(data['Adj Close'] == data['Close']):\n",
        "    data = data.drop(columns='Adj Close')\n",
        "\n"
      ],
      "execution_count": 0,
      "outputs": []
    },
    {
      "cell_type": "code",
      "metadata": {
        "id": "2Hr9jOQWnBba",
        "colab_type": "code",
        "colab": {
          "base_uri": "https://localhost:8080/",
          "height": 225
        },
        "outputId": "d7d5d9b4-21db-4e7b-9c4c-b60e5016c4b1"
      },
      "source": [
        "data.head()\n"
      ],
      "execution_count": 7,
      "outputs": [
        {
          "output_type": "execute_result",
          "data": {
            "text/html": [
              "<div>\n",
              "<style scoped>\n",
              "    .dataframe tbody tr th:only-of-type {\n",
              "        vertical-align: middle;\n",
              "    }\n",
              "\n",
              "    .dataframe tbody tr th {\n",
              "        vertical-align: top;\n",
              "    }\n",
              "\n",
              "    .dataframe thead th {\n",
              "        text-align: right;\n",
              "    }\n",
              "</style>\n",
              "<table border=\"1\" class=\"dataframe\">\n",
              "  <thead>\n",
              "    <tr style=\"text-align: right;\">\n",
              "      <th></th>\n",
              "      <th>Open</th>\n",
              "      <th>High</th>\n",
              "      <th>Low</th>\n",
              "      <th>Close</th>\n",
              "      <th>Volume</th>\n",
              "    </tr>\n",
              "    <tr>\n",
              "      <th>Date</th>\n",
              "      <th></th>\n",
              "      <th></th>\n",
              "      <th></th>\n",
              "      <th></th>\n",
              "      <th></th>\n",
              "    </tr>\n",
              "  </thead>\n",
              "  <tbody>\n",
              "    <tr>\n",
              "      <th>2007-01-03</th>\n",
              "      <td>12459.540039</td>\n",
              "      <td>12580.349609</td>\n",
              "      <td>12404.820313</td>\n",
              "      <td>12474.519531</td>\n",
              "      <td>327200000</td>\n",
              "    </tr>\n",
              "    <tr>\n",
              "      <th>2007-01-04</th>\n",
              "      <td>12473.160156</td>\n",
              "      <td>12510.410156</td>\n",
              "      <td>12403.860352</td>\n",
              "      <td>12480.690430</td>\n",
              "      <td>259060000</td>\n",
              "    </tr>\n",
              "    <tr>\n",
              "      <th>2007-01-05</th>\n",
              "      <td>12480.049805</td>\n",
              "      <td>12480.129883</td>\n",
              "      <td>12365.410156</td>\n",
              "      <td>12398.009766</td>\n",
              "      <td>235220000</td>\n",
              "    </tr>\n",
              "    <tr>\n",
              "      <th>2007-01-08</th>\n",
              "      <td>12392.009766</td>\n",
              "      <td>12445.919922</td>\n",
              "      <td>12337.370117</td>\n",
              "      <td>12423.490234</td>\n",
              "      <td>223500000</td>\n",
              "    </tr>\n",
              "    <tr>\n",
              "      <th>2007-01-09</th>\n",
              "      <td>12424.769531</td>\n",
              "      <td>12466.429688</td>\n",
              "      <td>12369.169922</td>\n",
              "      <td>12416.599609</td>\n",
              "      <td>225190000</td>\n",
              "    </tr>\n",
              "  </tbody>\n",
              "</table>\n",
              "</div>"
            ],
            "text/plain": [
              "                    Open          High           Low         Close     Volume\n",
              "Date                                                                         \n",
              "2007-01-03  12459.540039  12580.349609  12404.820313  12474.519531  327200000\n",
              "2007-01-04  12473.160156  12510.410156  12403.860352  12480.690430  259060000\n",
              "2007-01-05  12480.049805  12480.129883  12365.410156  12398.009766  235220000\n",
              "2007-01-08  12392.009766  12445.919922  12337.370117  12423.490234  223500000\n",
              "2007-01-09  12424.769531  12466.429688  12369.169922  12416.599609  225190000"
            ]
          },
          "metadata": {
            "tags": []
          },
          "execution_count": 7
        }
      ]
    },
    {
      "cell_type": "code",
      "metadata": {
        "id": "uR9VwnntA-3Z",
        "colab_type": "code",
        "colab": {
          "base_uri": "https://localhost:8080/",
          "height": 225
        },
        "outputId": "19445caf-cc1f-43b2-fdc3-ff65daf60256"
      },
      "source": [
        "data.tail()\n"
      ],
      "execution_count": 8,
      "outputs": [
        {
          "output_type": "execute_result",
          "data": {
            "text/html": [
              "<div>\n",
              "<style scoped>\n",
              "    .dataframe tbody tr th:only-of-type {\n",
              "        vertical-align: middle;\n",
              "    }\n",
              "\n",
              "    .dataframe tbody tr th {\n",
              "        vertical-align: top;\n",
              "    }\n",
              "\n",
              "    .dataframe thead th {\n",
              "        text-align: right;\n",
              "    }\n",
              "</style>\n",
              "<table border=\"1\" class=\"dataframe\">\n",
              "  <thead>\n",
              "    <tr style=\"text-align: right;\">\n",
              "      <th></th>\n",
              "      <th>Open</th>\n",
              "      <th>High</th>\n",
              "      <th>Low</th>\n",
              "      <th>Close</th>\n",
              "      <th>Volume</th>\n",
              "    </tr>\n",
              "    <tr>\n",
              "      <th>Date</th>\n",
              "      <th></th>\n",
              "      <th></th>\n",
              "      <th></th>\n",
              "      <th></th>\n",
              "      <th></th>\n",
              "    </tr>\n",
              "  </thead>\n",
              "  <tbody>\n",
              "    <tr>\n",
              "      <th>2020-03-17</th>\n",
              "      <td>20487.050781</td>\n",
              "      <td>21379.349609</td>\n",
              "      <td>19882.259766</td>\n",
              "      <td>21237.380859</td>\n",
              "      <td>793060000</td>\n",
              "    </tr>\n",
              "    <tr>\n",
              "      <th>2020-03-18</th>\n",
              "      <td>20188.689453</td>\n",
              "      <td>20489.330078</td>\n",
              "      <td>18917.460938</td>\n",
              "      <td>19898.919922</td>\n",
              "      <td>871360000</td>\n",
              "    </tr>\n",
              "    <tr>\n",
              "      <th>2020-03-19</th>\n",
              "      <td>19830.009766</td>\n",
              "      <td>20442.630859</td>\n",
              "      <td>19177.130859</td>\n",
              "      <td>20087.189453</td>\n",
              "      <td>780300000</td>\n",
              "    </tr>\n",
              "    <tr>\n",
              "      <th>2020-03-20</th>\n",
              "      <td>20253.150391</td>\n",
              "      <td>20531.259766</td>\n",
              "      <td>19094.269531</td>\n",
              "      <td>19173.980469</td>\n",
              "      <td>872290000</td>\n",
              "    </tr>\n",
              "    <tr>\n",
              "      <th>2020-03-23</th>\n",
              "      <td>19028.359375</td>\n",
              "      <td>19121.009766</td>\n",
              "      <td>18213.650391</td>\n",
              "      <td>18591.929688</td>\n",
              "      <td>787970000</td>\n",
              "    </tr>\n",
              "  </tbody>\n",
              "</table>\n",
              "</div>"
            ],
            "text/plain": [
              "                    Open          High           Low         Close     Volume\n",
              "Date                                                                         \n",
              "2020-03-17  20487.050781  21379.349609  19882.259766  21237.380859  793060000\n",
              "2020-03-18  20188.689453  20489.330078  18917.460938  19898.919922  871360000\n",
              "2020-03-19  19830.009766  20442.630859  19177.130859  20087.189453  780300000\n",
              "2020-03-20  20253.150391  20531.259766  19094.269531  19173.980469  872290000\n",
              "2020-03-23  19028.359375  19121.009766  18213.650391  18591.929688  787970000"
            ]
          },
          "metadata": {
            "tags": []
          },
          "execution_count": 8
        }
      ]
    },
    {
      "cell_type": "code",
      "metadata": {
        "id": "QtNhhao-nBbd",
        "colab_type": "code",
        "colab": {
          "base_uri": "https://localhost:8080/",
          "height": 34
        },
        "outputId": "a03e8d78-60bc-4ddb-b36c-f4ed6469abc3"
      },
      "source": [
        "data.columns\n",
        "data.shape"
      ],
      "execution_count": 9,
      "outputs": [
        {
          "output_type": "execute_result",
          "data": {
            "text/plain": [
              "(3328, 5)"
            ]
          },
          "metadata": {
            "tags": []
          },
          "execution_count": 9
        }
      ]
    },
    {
      "cell_type": "code",
      "metadata": {
        "id": "4i5-HS6fnBbg",
        "colab_type": "code",
        "colab": {
          "base_uri": "https://localhost:8080/",
          "height": 265
        },
        "outputId": "5284d149-8acc-499d-a2ad-16c16ac3c06c"
      },
      "source": [
        "# make data and target arrays\n",
        "target_style = 'Price' # / 'Price' / 'Change' / 'ChangeP' / 'UD'\n",
        "window_len = 100 # window length to use for prediction\n",
        "useVolume = True\n",
        "y = np.zeros(data.shape[0]-window_len)\n",
        "if useVolume:\n",
        "  X = np.zeros((data.shape[0]-window_len,window_len,data.shape[1]))\n",
        "else:\n",
        "  X = np.zeros((data.shape[0]-window_len,window_len,data.shape[1]-1))\n",
        "\n",
        "\n",
        "for i in range(data.shape[0]-window_len):\n",
        "    if target_style == 'Change':\n",
        "        # target of Change for next day\n",
        "        y[i] = data['Close'][i+window_len] - data['Close'][i+window_len-1]\n",
        "    elif target_style == 'ChangeP':\n",
        "        # target of Change for next day in percentage\n",
        "        y[i] = (data['Close'][i+window_len] - data['Close'][i+window_len-1]) / data['Close'][i+window_len-1]\n",
        "    elif target_style == 'UD':\n",
        "        # target of Up/Down for next day\n",
        "        if (data['Close'][i+window_len] - data['Close'][i+window_len-1]) > 0:\n",
        "          y[i] = 1\n",
        "        elif (data['Close'][i+window_len] - data['Close'][i+window_len-1]) < 0:\n",
        "          y[i] = -1\n",
        "        else:\n",
        "          y[i] = 0\n",
        "        # y[i] = 1 if (data['Close'][i+window_len] - data['Close'][i+window_len-1]) > 0 else -1 \n",
        "    else:\n",
        "        # target of Price for next day\n",
        "        y[i] = data['Close'][i+window_len]\n",
        "        \n",
        "    if useVolume:\n",
        "      X[i,:,:] = data.iloc[i:i+window_len].values\n",
        "    else:\n",
        "      X[i,:,:] = data.iloc[i:i+window_len,:-1].values\n",
        "    \n",
        "\n",
        "plt.plot(y)\n",
        "plt.show()"
      ],
      "execution_count": 10,
      "outputs": [
        {
          "output_type": "display_data",
          "data": {
            "image/png": "[encoded data removed]",
            "text/plain": [
              "<Figure size 432x288 with 1 Axes>"
            ]
          },
          "metadata": {
            "tags": []
          }
        }
      ]
    },
    {
      "cell_type": "code",
      "metadata": {
        "id": "NbxAgNAMnBbj",
        "colab_type": "code",
        "colab": {
          "base_uri": "https://localhost:8080/",
          "height": 34
        },
        "outputId": "fd767067-4bf6-4b19-f714-56f93648b4c3"
      },
      "source": [
        "X[-1,-10:,:]\n",
        "y[-1]"
      ],
      "execution_count": 11,
      "outputs": [
        {
          "output_type": "execute_result",
          "data": {
            "text/plain": [
              "18591.929688"
            ]
          },
          "metadata": {
            "tags": []
          },
          "execution_count": 11
        }
      ]
    },
    {
      "cell_type": "code",
      "metadata": {
        "id": "XKz0GAbrnBbm",
        "colab_type": "code",
        "colab": {}
      },
      "source": [
        "# train test split\n",
        "y_train = y[:int(0.7*len(y))]\n",
        "y_valid = y[int(0.7*len(y)):int(0.85*len(y))]\n",
        "y_test = y[int(0.85*len(y)):]\n",
        "X_train = X[:int(0.7*len(X)),:,:]\n",
        "X_valid = X[int(0.7*len(X)):int(0.85*len(X)),:,:]\n",
        "X_test = X[int(0.85*len(X)):,:,:]"
      ],
      "execution_count": 0,
      "outputs": []
    },
    {
      "cell_type": "code",
      "metadata": {
        "id": "UG_nLpNQnBbp",
        "colab_type": "code",
        "colab": {
          "base_uri": "https://localhost:8080/",
          "height": 84
        },
        "outputId": "8ed2c54c-9fdb-461a-b726-355c73b63197"
      },
      "source": [
        "# get the max and min in the train data\n",
        "maxPrice = np.max(X_train[:,:,:-1])\n",
        "print('max Price: ',maxPrice)\n",
        "minPrice = np.min(X_train[:,:,:-1])\n",
        "print('min Price: ',minPrice)\n",
        "\n",
        "if useVolume:\n",
        "  maxVolume = np.max(X_train[:,:,-1])\n",
        "  print('max Volume: ',maxVolume)\n",
        "  minVolume = np.min(X_train[:,:,-1])\n",
        "  print('min Volume: ',minVolume)\n",
        "\n",
        "\n"
      ],
      "execution_count": 13,
      "outputs": [
        {
          "output_type": "stream",
          "text": [
            "max Price:  18351.359375\n",
            "min Price:  6469.950195\n",
            "max Volume:  674920000.0\n",
            "min Volume:  8410000.0\n"
          ],
          "name": "stdout"
        }
      ]
    },
    {
      "cell_type": "code",
      "metadata": {
        "id": "FyWVlbOFnBbu",
        "colab_type": "code",
        "colab": {
          "base_uri": "https://localhost:8080/",
          "height": 761
        },
        "outputId": "1a631262-6f5c-4250-8004-b63b7a64bfce"
      },
      "source": [
        "# data scaling\n",
        "if useVolume:\n",
        "  X_train[:,:,:-1] = (X_train[:,:,:-1] - minPrice) / (maxPrice - minPrice)\n",
        "  X_train[:,:,-1] = (X_train[:,:,-1] - minVolume) / (maxVolume - minVolume)\n",
        "\n",
        "  X_valid[:,:,:-1] = (X_valid[:,:,:-1] - minPrice) / (maxPrice - minPrice)\n",
        "  X_valid[:,:,-1] = (X_valid[:,:,-1] - minVolume) / (maxVolume - minVolume)\n",
        "\n",
        "  X_test[:,:,:-1] = (X_test[:,:,:-1] - minPrice) / (maxPrice - minPrice)\n",
        "  X_test[:,:,-1] = (X_test[:,:,-1] - minVolume) / (maxVolume - minVolume)\n",
        "else:\n",
        "  X_train[:,:,:] = (X_train[:,:,:] - minPrice) / (maxPrice - minPrice)\n",
        "\n",
        "  X_valid[:,:,:] = (X_valid[:,:,:] - minPrice) / (maxPrice - minPrice)\n",
        "\n",
        "  X_test[:,:,:] = (X_test[:,:,:] - minPrice) / (maxPrice - minPrice)\n",
        "\n",
        "\n",
        "\n",
        "# target scaling\n",
        "if target_style == 'Price':\n",
        "    y_train = (y_train - minPrice) / (maxPrice - minPrice)\n",
        "    plt.plot(y_train)\n",
        "    plt.show()\n",
        "    y_valid = (y_valid - minPrice) / (maxPrice - minPrice)\n",
        "    plt.plot(y_valid)\n",
        "    plt.show()\n",
        "    y_test = (y_test - minPrice) / (maxPrice - minPrice)\n",
        "    plt.plot(y_test)\n",
        "    plt.show()\n",
        "elif target_style == 'Change':\n",
        "    maxChange = np.max(np.abs(y_train))\n",
        "    y_train = y_train / maxChange\n",
        "    plt.plot(y_train)\n",
        "    plt.show()\n",
        "    y_valid = y_valid / maxChange\n",
        "    plt.plot(y_valid)\n",
        "    plt.show()\n",
        "    y_test = y_test / maxChange\n",
        "    plt.plot(y_test)\n",
        "    plt.show()"
      ],
      "execution_count": 14,
      "outputs": [
        {
          "output_type": "display_data",
          "data": {
            "image/png": "[encoded data removed]",
            "text/plain": [
              "<Figure size 432x288 with 1 Axes>"
            ]
          },
          "metadata": {
            "tags": []
          }
        },
        {
          "output_type": "display_data",
          "data": {
            "image/png": "[encoded data removed]",
            "text/plain": [
              "<Figure size 432x288 with 1 Axes>"
            ]
          },
          "metadata": {
            "tags": []
          }
        },
        {
          "output_type": "display_data",
          "data": {
            "image/png": "[encoded data removed]",
            "text/plain": [
              "<Figure size 432x288 with 1 Axes>"
            ]
          },
          "metadata": {
            "tags": []
          }
        }
      ]
    },
    {
      "cell_type": "code",
      "metadata": {
        "id": "rtF8VVZYnBby",
        "colab_type": "code",
        "colab": {}
      },
      "source": [
        "\n",
        "# from keras.models import Sequential\n",
        "# import keras.layers as layers\n",
        "# from keras.layers import Input, Dense, Dropout, LSTM, CuDNNLSTM, GRU, CuDNNGRU, Bidirectional\n",
        "# from keras.optimizers import SGD, RMSprop, Adam, Adagrad\n",
        "# from keras.losses import mean_squared_error\n",
        "# from keras.models import load_model\n",
        "# from keras import backend as K\n",
        "# from keras.callbacks import EarlyStopping\n"
      ],
      "execution_count": 0,
      "outputs": []
    },
    {
      "cell_type": "code",
      "metadata": {
        "id": "gvj_BVH_tgIV",
        "colab_type": "code",
        "colab": {}
      },
      "source": [
        "import tensorflow as tf\n",
        "\n",
        "from tensorflow.keras import layers\n",
        "from tensorflow.keras import backend as K"
      ],
      "execution_count": 0,
      "outputs": []
    },
    {
      "cell_type": "code",
      "metadata": {
        "id": "BLC3u7j9nBb0",
        "colab_type": "code",
        "colab": {}
      },
      "source": [
        "\n",
        "# The GRU architecture\n",
        "regressorGRU = tf.keras.Sequential()\n",
        "# First GRU layer with Dropout regularisation\n",
        "regressorGRU.add(layers.GRU(units=50, return_sequences=True, input_shape=(X_train.shape[1],X_train.shape[2])))\n",
        "regressorGRU.add(layers.Dropout(0.2))\n",
        "# Second GRU layer\n",
        "regressorGRU.add(layers.GRU(units=50, return_sequences=True, input_shape=(X_train.shape[1],X_train.shape[2])))\n",
        "regressorGRU.add(layers.Dropout(0.2))\n",
        "# Third GRU layer\n",
        "regressorGRU.add(layers.GRU(units=50, return_sequences=True, input_shape=(X_train.shape[1],X_train.shape[2])))\n",
        "regressorGRU.add(layers.Dropout(0.2))\n",
        "# Fourth GRU layer\n",
        "regressorGRU.add(layers.GRU(units=50))\n",
        "regressorGRU.add(layers.Dropout(0.2))\n",
        "# The output layer\n",
        "regressorGRU.add(layers.Dense(units=1))\n"
      ],
      "execution_count": 0,
      "outputs": []
    },
    {
      "cell_type": "code",
      "metadata": {
        "id": "_Q8S8O-CnBb2",
        "colab_type": "code",
        "colab": {}
      },
      "source": [
        "\n",
        "# The LSTM architecture\n",
        "regressorLSTM = tf.keras.Sequential()\n",
        "# First LSTM layer with Dropout regularisation\n",
        "regressorLSTM.add(layers.LSTM(units=50, return_sequences=True, input_shape=(X_train.shape[1],X_train.shape[2])))\n",
        "regressorLSTM.add(layers.Dropout(0.2))\n",
        "# Second LSTM layer\n",
        "regressorLSTM.add(layers.LSTM(units=50, return_sequences=True))\n",
        "regressorLSTM.add(layers.Dropout(0.2))\n",
        "# Third LSTM layer\n",
        "regressorLSTM.add(layers.LSTM(units=50, return_sequences=True))\n",
        "regressorLSTM.add(layers.Dropout(0.2))\n",
        "# Fourth LSTM layer \n",
        "regressorLSTM.add(layers.LSTM(units=50))\n",
        "regressorLSTM.add(layers.Dropout(0.2))\n",
        "# The output layer\n",
        "regressorLSTM.add(layers.Dense(units=1))\n"
      ],
      "execution_count": 0,
      "outputs": []
    },
    {
      "cell_type": "code",
      "metadata": {
        "id": "dQVG4WhknBb4",
        "colab_type": "code",
        "colab": {}
      },
      "source": [
        "def r2_score(y_true, y_pred):\n",
        "    SS_res =  K.sum(K.square(y_true - y_pred))\n",
        "    SS_tot = K.sum(K.square(y_true - K.mean(y_true)))\n",
        "    SS_reg = K.sum(K.square(y_pred - K.mean(y_true)))\n",
        "#     return ( 1 - SS_res/(SS_tot + K.epsilon()) )\n",
        "    return ( SS_res/(SS_tot + K.epsilon()) )\n",
        "#     return ( SS_reg/(SS_tot + K.epsilon()) )"
      ],
      "execution_count": 0,
      "outputs": []
    },
    {
      "cell_type": "code",
      "metadata": {
        "id": "KydPRPp0nBb7",
        "colab_type": "code",
        "colab": {
          "base_uri": "https://localhost:8080/",
          "height": 1000
        },
        "outputId": "841884a5-90d1-497c-c5a6-1e361e7a4550"
      },
      "source": [
        "# regressor = regressorLSTM\n",
        "regressor = regressorGRU\n",
        "callback = tf.keras.callbacks.EarlyStopping(monitor='val_loss', patience=5, restore_best_weights=True)\n",
        "regressor.compile(optimizer='Adam', loss=r2_score, metrics=['mse',r2_score]) # optimizer='Adam'/'RMSProp'\n",
        "print(regressor.summary())\n",
        "hist = regressor.fit(X_train, y_train,epochs = 100, callbacks=[callback], validation_data=(X_valid, y_valid)) # , batch_size=32"
      ],
      "execution_count": 19,
      "outputs": [
        {
          "output_type": "stream",
          "text": [
            "Model: \"sequential\"\n",
            "_________________________________________________________________\n",
            "Layer (type)                 Output Shape              Param #   \n",
            "=================================================================\n",
            "gru (GRU)                    (None, 100, 50)           8550      \n",
            "_________________________________________________________________\n",
            "dropout (Dropout)            (None, 100, 50)           0         \n",
            "_________________________________________________________________\n",
            "gru_1 (GRU)                  (None, 100, 50)           15300     \n",
            "_________________________________________________________________\n",
            "dropout_1 (Dropout)          (None, 100, 50)           0         \n",
            "_________________________________________________________________\n",
            "gru_2 (GRU)                  (None, 100, 50)           15300     \n",
            "_________________________________________________________________\n",
            "dropout_2 (Dropout)          (None, 100, 50)           0         \n",
            "_________________________________________________________________\n",
            "gru_3 (GRU)                  (None, 50)                15300     \n",
            "_________________________________________________________________\n",
            "dropout_3 (Dropout)          (None, 50)                0         \n",
            "_________________________________________________________________\n",
            "dense (Dense)                (None, 1)                 51        \n",
            "=================================================================\n",
            "Total params: 54,501\n",
            "Trainable params: 54,501\n",
            "Non-trainable params: 0\n",
            "_________________________________________________________________\n",
            "None\n",
            "Epoch 1/100\n",
            "71/71 [==============================] - 14s 204ms/step - loss: 0.4180 - mse: 0.0241 - r2_score: 0.4180 - val_loss: 48.9904 - val_mse: 0.0196 - val_r2_score: 48.9904\n",
            "Epoch 2/100\n",
            "71/71 [==============================] - 14s 190ms/step - loss: 0.1006 - mse: 0.0057 - r2_score: 0.1006 - val_loss: 40.4808 - val_mse: 0.0160 - val_r2_score: 40.4808\n",
            "Epoch 3/100\n",
            "71/71 [==============================] - 14s 191ms/step - loss: 0.0786 - mse: 0.0044 - r2_score: 0.0786 - val_loss: 25.2898 - val_mse: 0.0102 - val_r2_score: 25.2898\n",
            "Epoch 4/100\n",
            "71/71 [==============================] - 14s 195ms/step - loss: 0.0781 - mse: 0.0044 - r2_score: 0.0781 - val_loss: 23.4638 - val_mse: 0.0094 - val_r2_score: 23.4638\n",
            "Epoch 5/100\n",
            "71/71 [==============================] - 14s 197ms/step - loss: 0.0699 - mse: 0.0040 - r2_score: 0.0699 - val_loss: 18.3617 - val_mse: 0.0074 - val_r2_score: 18.3617\n",
            "Epoch 6/100\n",
            "71/71 [==============================] - 14s 197ms/step - loss: 0.0593 - mse: 0.0034 - r2_score: 0.0593 - val_loss: 68.4959 - val_mse: 0.0258 - val_r2_score: 68.4959\n",
            "Epoch 7/100\n",
            "71/71 [==============================] - 14s 200ms/step - loss: 0.0623 - mse: 0.0035 - r2_score: 0.0623 - val_loss: 8.7020 - val_mse: 0.0038 - val_r2_score: 8.7020\n",
            "Epoch 8/100\n",
            "71/71 [==============================] - 14s 199ms/step - loss: 0.0614 - mse: 0.0034 - r2_score: 0.0614 - val_loss: 13.7714 - val_mse: 0.0059 - val_r2_score: 13.7714\n",
            "Epoch 9/100\n",
            "71/71 [==============================] - 14s 200ms/step - loss: 0.0510 - mse: 0.0029 - r2_score: 0.0510 - val_loss: 31.5913 - val_mse: 0.0128 - val_r2_score: 31.5913\n",
            "Epoch 10/100\n",
            "71/71 [==============================] - 14s 202ms/step - loss: 0.0511 - mse: 0.0029 - r2_score: 0.0511 - val_loss: 21.7594 - val_mse: 0.0092 - val_r2_score: 21.7594\n",
            "Epoch 11/100\n",
            "71/71 [==============================] - 14s 201ms/step - loss: 0.0559 - mse: 0.0031 - r2_score: 0.0559 - val_loss: 6.8255 - val_mse: 0.0033 - val_r2_score: 6.8255\n",
            "Epoch 12/100\n",
            "71/71 [==============================] - 14s 202ms/step - loss: 0.0505 - mse: 0.0028 - r2_score: 0.0505 - val_loss: 11.8771 - val_mse: 0.0055 - val_r2_score: 11.8771\n",
            "Epoch 13/100\n",
            "71/71 [==============================] - 14s 202ms/step - loss: 0.0465 - mse: 0.0026 - r2_score: 0.0465 - val_loss: 19.2284 - val_mse: 0.0083 - val_r2_score: 19.2284\n",
            "Epoch 14/100\n",
            "71/71 [==============================] - 15s 206ms/step - loss: 0.0482 - mse: 0.0027 - r2_score: 0.0482 - val_loss: 8.1947 - val_mse: 0.0040 - val_r2_score: 8.1947\n",
            "Epoch 15/100\n",
            "71/71 [==============================] - 15s 204ms/step - loss: 0.0462 - mse: 0.0026 - r2_score: 0.0462 - val_loss: 24.6250 - val_mse: 0.0105 - val_r2_score: 24.6250\n",
            "Epoch 16/100\n",
            "71/71 [==============================] - 14s 202ms/step - loss: 0.0489 - mse: 0.0028 - r2_score: 0.0489 - val_loss: 19.8012 - val_mse: 0.0087 - val_r2_score: 19.8012\n"
          ],
          "name": "stdout"
        }
      ]
    },
    {
      "cell_type": "code",
      "metadata": {
        "id": "ybGrVx4ZnBb-",
        "colab_type": "code",
        "colab": {
          "base_uri": "https://localhost:8080/",
          "height": 34
        },
        "outputId": "10207e53-76fe-4122-cc29-b6a770b93069"
      },
      "source": [
        "hist.history.keys()"
      ],
      "execution_count": 20,
      "outputs": [
        {
          "output_type": "execute_result",
          "data": {
            "text/plain": [
              "dict_keys(['loss', 'mse', 'r2_score', 'val_loss', 'val_mse', 'val_r2_score'])"
            ]
          },
          "metadata": {
            "tags": []
          },
          "execution_count": 20
        }
      ]
    },
    {
      "cell_type": "code",
      "metadata": {
        "id": "a9fLE74znBcC",
        "colab_type": "code",
        "colab": {
          "base_uri": "https://localhost:8080/",
          "height": 265
        },
        "outputId": "94139886-02b7-4ce3-9ea5-9c172ddff94d"
      },
      "source": [
        "plt.plot(hist.history['loss'])\n",
        "plt.show()"
      ],
      "execution_count": 21,
      "outputs": [
        {
          "output_type": "display_data",
          "data": {
            "image/png": "[encoded data removed]",
            "text/plain": [
              "<Figure size 432x288 with 1 Axes>"
            ]
          },
          "metadata": {
            "tags": []
          }
        }
      ]
    },
    {
      "cell_type": "code",
      "metadata": {
        "id": "CHcyd4CEvLM9",
        "colab_type": "code",
        "colab": {
          "base_uri": "https://localhost:8080/",
          "height": 34
        },
        "outputId": "44656ac5-2b1f-4f07-c074-b3fcfc747634"
      },
      "source": [
        "# predict for lest point\n",
        "if useVolume:\n",
        "  lest_data = data.iloc[-window_len:].values\n",
        "  \n",
        "  lest_data[:,:-1] = (lest_data[:,:-1] - minPrice) / (maxPrice - minPrice)\n",
        "  lest_data[:,-1] = (lest_data[:,-1] - minVolume) / (maxVolume - minVolume)\n",
        "else:\n",
        "  lest_data = data.iloc[-window_len:,:-1].values\n",
        "  lest_data = (lest_data - minPrice) / (maxPrice - minPrice)\n",
        "lest_data = lest_data.reshape((1,window_len,X_train.shape[2]))\n",
        "\n",
        "predicted_stock_price = regressor.predict(lest_data)\n",
        "# target_style = 'Price' # / 'Price' / 'Change' / 'ChangeP' / 'UD'\n",
        "if target_style == 'Price':\n",
        "  predicted_stock_price = predicted_stock_price * (maxPrice - minPrice) + minPrice\n",
        "  print(\"predicted stock price for next step is: \", predicted_stock_price)\n",
        "elif target_style == 'Change':\n",
        "  predicted_stock_price = predicted_stock_price * maxChange\n",
        "  print(\"predicted stock price Change for next step is: \", predicted_stock_price)\n",
        "elif target_style == 'ChangeP':\n",
        "  print(\"predicted stock price Change percentage for next step is: \", predicted_stock_price)\n",
        "elif target_style == 'UD':\n",
        "  print(\"predicted stock price Up Down percentage for next step is: \", predicted_stock_price)\n"
      ],
      "execution_count": 22,
      "outputs": [
        {
          "output_type": "stream",
          "text": [
            "predicted stock price for next step is:  [[21651.14]]\n"
          ],
          "name": "stdout"
        }
      ]
    },
    {
      "cell_type": "code",
      "metadata": {
        "scrolled": false,
        "id": "nzOET51RnBcF",
        "colab_type": "code",
        "colab": {}
      },
      "source": [
        "predicted_stock_price = regressor.predict(X_test)\n",
        "# if target_style == 'Price':\n",
        "#     predicted_stock_price = (predicted_stock_price * (maxPrice - minPrice)) + minPrice\n",
        "# predicted_stock_price"
      ],
      "execution_count": 0,
      "outputs": []
    },
    {
      "cell_type": "code",
      "metadata": {
        "id": "mAld9CgknBcH",
        "colab_type": "code",
        "colab": {
          "base_uri": "https://localhost:8080/",
          "height": 295
        },
        "outputId": "9d4048c8-0200-43a8-f40f-662aa150521d"
      },
      "source": [
        "# Visualising the test results\n",
        "plt.plot(y_test, color = 'pink', label = 'Real Stock Price')\n",
        "plt.plot(predicted_stock_price, color = 'blue', label = 'Predicted Stock Price')\n",
        "plt.title('Stock Price Prediction on test data')\n",
        "plt.xlabel('Time')\n",
        "plt.ylabel('Stock Price on test data')\n",
        "plt.legend()\n",
        "plt.show()"
      ],
      "execution_count": 24,
      "outputs": [
        {
          "output_type": "display_data",
          "data": {
            "image/png": "[encoded data removed]",
            "text/plain": [
              "<Figure size 432x288 with 1 Axes>"
            ]
          },
          "metadata": {
            "tags": []
          }
        }
      ]
    },
    {
      "cell_type": "code",
      "metadata": {
        "id": "eSrqrTDRnBcK",
        "colab_type": "code",
        "colab": {}
      },
      "source": [
        "predicted_stock_price = regressor.predict(X_valid)\n",
        "# if target_style == 'Price':\n",
        "#     predicted_stock_price = (predicted_stock_price * (maxPrice - minPrice)) + minPrice\n",
        "# predicted_stock_price"
      ],
      "execution_count": 0,
      "outputs": []
    },
    {
      "cell_type": "code",
      "metadata": {
        "id": "qgZczZuenBcN",
        "colab_type": "code",
        "colab": {
          "base_uri": "https://localhost:8080/",
          "height": 295
        },
        "outputId": "fb8629a5-44cd-435a-82e2-77b821d2d58e"
      },
      "source": [
        "# Visualising the validation results\n",
        "plt.plot(y_valid, color = 'pink', label = 'Real Stock Price')\n",
        "plt.plot(predicted_stock_price, color = 'blue', label = 'Predicted Stock Price')\n",
        "plt.title('Stock Price Prediction on validation data')\n",
        "plt.xlabel('Time')\n",
        "plt.ylabel('Stock Price')\n",
        "plt.legend()\n",
        "plt.show()"
      ],
      "execution_count": 26,
      "outputs": [
        {
          "output_type": "display_data",
          "data": {
            "image/png": "[encoded data removed]",
            "text/plain": [
              "<Figure size 432x288 with 1 Axes>"
            ]
          },
          "metadata": {
            "tags": []
          }
        }
      ]
    },
    {
      "cell_type": "code",
      "metadata": {
        "id": "RUQpE75bnBcQ",
        "colab_type": "code",
        "colab": {
          "base_uri": "https://localhost:8080/",
          "height": 118
        },
        "outputId": "55c6a526-712f-4bc1-9e7b-0cb39762bc96"
      },
      "source": [
        "# r2_score(y_valid, predicted_stock_price)\n",
        "SS_res = np.sum(np.square(y_valid - predicted_stock_price))\n",
        "print('SS_res = ',SS_res)\n",
        "SS_tot = np.sum(np.square(y_valid - np.mean(y_valid)))\n",
        "print('SS_tot = ',SS_tot)\n",
        "SS_reg = np.sum(np.square(predicted_stock_price - np.mean(y_valid)))\n",
        "print('SS_reg = ',SS_reg)\n",
        "r2 = 1 - SS_res/SS_tot\n",
        "print('r2 = ',r2)\n",
        "r2 = SS_reg/SS_tot\n",
        "print('r2 = ',r2)\n",
        "mse = np.mean(np.square(y_valid - predicted_stock_price))\n",
        "print('mse = ',mse)"
      ],
      "execution_count": 27,
      "outputs": [
        {
          "output_type": "stream",
          "text": [
            "SS_res =  16466.8440850859\n",
            "SS_tot =  20.45461493823702\n",
            "SS_reg =  13.56779\n",
            "r2 =  -804.0429761111491\n",
            "r2 =  0.6633119260568446\n",
            "mse =  0.07029422548445248\n"
          ],
          "name": "stdout"
        }
      ]
    },
    {
      "cell_type": "code",
      "metadata": {
        "id": "ow-IQvf0nBcT",
        "colab_type": "code",
        "colab": {}
      },
      "source": [
        "predicted_stock_price = regressor.predict(X_train)\n",
        "# if target_style == 'Price':\n",
        "#     predicted_stock_price = (predicted_stock_price * (maxPrice - minPrice)) + minPrice\n",
        "# predicted_stock_price"
      ],
      "execution_count": 0,
      "outputs": []
    },
    {
      "cell_type": "code",
      "metadata": {
        "id": "si2ZBP4cnBcW",
        "colab_type": "code",
        "colab": {
          "base_uri": "https://localhost:8080/",
          "height": 295
        },
        "outputId": "be2af11e-976e-4406-db6a-ff4bbc0a4b2d"
      },
      "source": [
        "# Visualising the train results\n",
        "plt.plot(y_train, color = 'pink', label = 'Real Stock Price')\n",
        "plt.plot(predicted_stock_price, color = 'blue', label = 'Predicted Stock Price')\n",
        "plt.title('Stock Price Prediction on train data')\n",
        "plt.xlabel('Time')\n",
        "plt.ylabel('Stock Price')\n",
        "plt.legend()\n",
        "plt.show()\n",
        "plt.close('all')"
      ],
      "execution_count": 29,
      "outputs": [
        {
          "output_type": "display_data",
          "data": {
            "image/png": "[encoded data removed]",
            "text/plain": [
              "<Figure size 432x288 with 1 Axes>"
            ]
          },
          "metadata": {
            "tags": []
          }
        }
      ]
    },
    {
      "cell_type": "code",
      "metadata": {
        "id": "anMEeH32nBca",
        "colab_type": "code",
        "colab": {}
      },
      "source": [
        ""
      ],
      "execution_count": 0,
      "outputs": []
    },
    {
      "cell_type": "code",
      "metadata": {
        "id": "MzUekGrhnBce",
        "colab_type": "code",
        "colab": {}
      },
      "source": [
        ""
      ],
      "execution_count": 0,
      "outputs": []
    },
    {
      "cell_type": "code",
      "metadata": {
        "id": "jmUAKttunBcg",
        "colab_type": "code",
        "colab": {}
      },
      "source": [
        ""
      ],
      "execution_count": 0,
      "outputs": []
    },
    {
      "cell_type": "code",
      "metadata": {
        "id": "KNwbpTH6nBci",
        "colab_type": "code",
        "colab": {}
      },
      "source": [
        ""
      ],
      "execution_count": 0,
      "outputs": []
    }
  ]
}
